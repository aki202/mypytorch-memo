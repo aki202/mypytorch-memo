{
 "cells": [
  {
   "cell_type": "markdown",
   "metadata": {},
   "source": [
    "# Translation with a Sequence to Sequence Network and Attention\n",
    "\n",
    "英語から日本語への翻訳を行えるネットワークを構築する。\n",
    "https://pytorch.org/tutorials/intermediate/seq2seq_translation_tutorial.html\n",
    "\n",
    "コーパスは以下のものを使用する。\n",
    "https://github.com/odashi/small_parallel_enja"
   ]
  },
  {
   "cell_type": "markdown",
   "metadata": {},
   "source": [
    "# importとCUDAの確認"
   ]
  },
  {
   "cell_type": "code",
   "execution_count": 1,
   "metadata": {},
   "outputs": [],
   "source": [
    "from __future__ import unicode_literals, print_function, division\n",
    "from io import open\n",
    "import unicodedata\n",
    "import string\n",
    "import re\n",
    "import random\n",
    "\n",
    "import torch\n",
    "import torch.nn as nn\n",
    "from torch import optim\n",
    "import torch.nn.functional as F\n",
    "\n",
    "device = torch.device(\"cuda\" if torch.cuda.is_available() else \"cpu\")"
   ]
  },
  {
   "cell_type": "code",
   "execution_count": 2,
   "metadata": {},
   "outputs": [
    {
     "data": {
      "text/plain": [
       "device(type='cuda')"
      ]
     },
     "execution_count": 2,
     "metadata": {},
     "output_type": "execute_result"
    }
   ],
   "source": [
    "device"
   ]
  },
  {
   "cell_type": "code",
   "execution_count": 3,
   "metadata": {},
   "outputs": [],
   "source": [
    "# 入出力単語数\n",
    "MAX_LENGTH = 18"
   ]
  },
  {
   "cell_type": "markdown",
   "metadata": {},
   "source": [
    "# Attentionの可視化で日本語フォントを使う"
   ]
  },
  {
   "cell_type": "code",
   "execution_count": 4,
   "metadata": {},
   "outputs": [],
   "source": [
    "import matplotlib.pyplot as plt\n",
    "import matplotlib.ticker as ticker\n",
    "import numpy as np\n",
    "\n",
    "plt.rcParams['font.family'] = 'Ume Gothic O5'\n",
    "plt.rcParams['font.size'] = 10"
   ]
  },
  {
   "cell_type": "markdown",
   "metadata": {},
   "source": [
    "# データをちょいと確認"
   ]
  },
  {
   "cell_type": "code",
   "execution_count": 5,
   "metadata": {},
   "outputs": [
    {
     "name": "stdout",
     "output_type": "stream",
     "text": [
      "i can 't tell who will arrive first .\n",
      "many animals have been destroyed by men .\n",
      "i 'm in the tennis club .\n",
      "emi looks happy .\n",
      "please bear this fact in mind .\n"
     ]
    }
   ],
   "source": [
    "! head -n 5 data/small_parallel_enja/train.en"
   ]
  },
  {
   "cell_type": "code",
   "execution_count": 6,
   "metadata": {},
   "outputs": [
    {
     "name": "stdout",
     "output_type": "stream",
     "text": [
      "誰 が 一番 に 着 く か 私 に は 分か り ま せ ん 。\n",
      "多く の 動物 が 人間 に よ っ て 滅ぼ さ れ た 。\n",
      "私 は テニス 部員 で す 。\n",
      "エミ は 幸せ そう に 見え ま す 。\n",
      "この 事実 を 心 に 留め て お い て 下さ い 。\n"
     ]
    }
   ],
   "source": [
    "! head -n 5 data/small_parallel_enja/train.ja"
   ]
  },
  {
   "cell_type": "markdown",
   "metadata": {},
   "source": [
    "# Lang（トークナイザー）を作る"
   ]
  },
  {
   "cell_type": "code",
   "execution_count": 7,
   "metadata": {},
   "outputs": [],
   "source": [
    "PAD_token = 0\n",
    "SOS_token = 1\n",
    "EOS_token = 2\n",
    "\n",
    "\n",
    "class Lang:\n",
    "    def __init__(self, name):\n",
    "        self.name = name\n",
    "        self.word2index = {}\n",
    "        self.word2count = {}\n",
    "        self.index2word = {0: \"PAD\", 1: \"SOS\", 2: \"EOS\"}\n",
    "        self.n_words = 3  # Count SOS and EOS\n",
    "\n",
    "    def addSentence(self, sentence):\n",
    "        for word in sentence.split(' '):\n",
    "            self.addWord(word)\n",
    "\n",
    "    def addWord(self, word):\n",
    "        if word not in self.word2index:\n",
    "            self.word2index[word] = self.n_words\n",
    "            self.word2count[word] = 1\n",
    "            self.index2word[self.n_words] = word\n",
    "            self.n_words += 1\n",
    "        else:\n",
    "            self.word2count[word] += 1"
   ]
  },
  {
   "cell_type": "code",
   "execution_count": 8,
   "metadata": {},
   "outputs": [],
   "source": [
    "def readLangs(lang1, lang2, reverse=False):\n",
    "    print(\"Reading lines...\")\n",
    "\n",
    "    # Read the file and split into lines\n",
    "    lines1 = open('data/small_parallel_enja/train.{}'.format(lang1), encoding='utf-8').\\\n",
    "        read().strip().split('\\n')\n",
    "    lines2 = open('data/small_parallel_enja/train.{}'.format(lang2), encoding='utf-8').\\\n",
    "        read().strip().split('\\n')\n",
    "\n",
    "    # Split every line into pairs\n",
    "    pairs = [[s1, s2] for (s1, s2) in zip(lines1, lines2)]\n",
    "\n",
    "    # Reverse pairs, make Lang instances\n",
    "    if reverse:\n",
    "        pairs = [list(reversed(p)) for p in pairs]\n",
    "        input_lang = Lang(lang2)\n",
    "        output_lang = Lang(lang1)\n",
    "    else:\n",
    "        input_lang = Lang(lang1)\n",
    "        output_lang = Lang(lang2)\n",
    "\n",
    "    return input_lang, output_lang, pairs"
   ]
  },
  {
   "cell_type": "markdown",
   "metadata": {},
   "source": [
    "# データの準備"
   ]
  },
  {
   "cell_type": "code",
   "execution_count": 9,
   "metadata": {},
   "outputs": [
    {
     "name": "stdout",
     "output_type": "stream",
     "text": [
      "Reading lines...\n",
      "Read 50000 sentence pairs\n",
      "Counting words...\n",
      "Counted words:\n",
      "en 6637\n",
      "ja 8777\n",
      "['those children went away , singing a song .', 'その 子供 たち は 歌 い ながら 去 っ て 行 っ た 。']\n"
     ]
    }
   ],
   "source": [
    "def prepareData(lang1, lang2, reverse=False):\n",
    "    input_lang, output_lang, pairs = readLangs(lang1, lang2, reverse)\n",
    "    print(\"Read %s sentence pairs\" % len(pairs))\n",
    "    print(\"Counting words...\")\n",
    "    for pair in pairs:\n",
    "        input_lang.addSentence(pair[0])\n",
    "        output_lang.addSentence(pair[1])\n",
    "    print(\"Counted words:\")\n",
    "    print(input_lang.name, input_lang.n_words)\n",
    "    print(output_lang.name, output_lang.n_words)\n",
    "    return input_lang, output_lang, pairs\n",
    "\n",
    "\n",
    "input_lang, output_lang, pairs = prepareData('en', 'ja', False)\n",
    "print(random.choice(pairs))"
   ]
  },
  {
   "cell_type": "code",
   "execution_count": 10,
   "metadata": {},
   "outputs": [],
   "source": [
    "# train / test split\n",
    "from sklearn.model_selection import train_test_split\n",
    "train_pairs, test_pairs = train_test_split(pairs, test_size=0.2)"
   ]
  },
  {
   "cell_type": "code",
   "execution_count": 11,
   "metadata": {},
   "outputs": [],
   "source": [
    "def tensorFromSentence(lang, sentence):\n",
    "    length = len(sentence.split(' '))\n",
    "    indexes = [lang.word2index[word] for word in sentence.split(' ')]\n",
    "    return indexes + [EOS_token] + [0] * (MAX_LENGTH - length - 1), length + 1"
   ]
  },
  {
   "cell_type": "markdown",
   "metadata": {},
   "source": [
    "# バッチを作成するジェネレーター"
   ]
  },
  {
   "cell_type": "code",
   "execution_count": 12,
   "metadata": {},
   "outputs": [],
   "source": [
    "import random\n",
    "\n",
    "def generate_batch(pairs, batch_size=200, shuffle=True):\n",
    "    \n",
    "    random.shuffle(pairs)\n",
    "    \n",
    "    for i in range(len(pairs) // batch_size):\n",
    "        batch_pairs = pairs[batch_size*i:batch_size*(i+1)]\n",
    "\n",
    "        input_batch = []\n",
    "        target_batch = []\n",
    "        input_lens = []\n",
    "        target_lens = []\n",
    "        for input_seq, target_seq in batch_pairs:\n",
    "            input_seq, input_length = tensorFromSentence(input_lang, input_seq)\n",
    "            target_seq, target_length = tensorFromSentence(output_lang, target_seq)\n",
    "\n",
    "            input_batch.append(input_seq)\n",
    "            target_batch.append(target_seq)\n",
    "            input_lens.append(input_length)\n",
    "            target_lens.append(target_length)\n",
    "\n",
    "        input_batch = torch.tensor(input_batch, dtype=torch.long, device=device)\n",
    "        target_batch = torch.tensor(target_batch, dtype=torch.long, device=device)\n",
    "        input_lens = torch.tensor(input_lens)\n",
    "        target_lens = torch.tensor(target_lens)\n",
    "        \n",
    "        # sort\n",
    "        input_lens, sorted_idxs = input_lens.sort(0, descending=True)\n",
    "        input_batch = input_batch[sorted_idxs].transpose(0, 1)\n",
    "        input_batch = input_batch[:input_lens.max().item()]\n",
    "        \n",
    "        target_batch = target_batch[sorted_idxs].transpose(0, 1)\n",
    "        target_batch = target_batch[:target_lens.max().item()]\n",
    "        target_lens = target_lens[sorted_idxs]\n",
    "        \n",
    "        yield input_batch, input_lens, target_batch, target_lens\n"
   ]
  },
  {
   "cell_type": "markdown",
   "metadata": {},
   "source": [
    "# EncoderとDecoderの作成と簡単なテスト"
   ]
  },
  {
   "cell_type": "code",
   "execution_count": 13,
   "metadata": {},
   "outputs": [],
   "source": [
    "import torch\n",
    "from torch import nn\n",
    "import torch.nn.functional as F\n",
    "\n",
    "\n",
    "class EncoderRNN(nn.Module):\n",
    "    def __init__(self, input_size, emb_size, hid_size, pad_token=0):\n",
    "        super(EncoderRNN, self).__init__()\n",
    "        self.embedding_size = emb_size\n",
    "        self.hidden_size = hid_size\n",
    "\n",
    "        self.embedding = nn.Embedding(input_size, emb_size, padding_idx=pad_token)\n",
    "        self.lstm = nn.LSTM(input_size=emb_size,\n",
    "                            hidden_size=hid_size,\n",
    "                            bidirectional=True)\n",
    "        self.linear_h = nn.Linear(hid_size * 2, hid_size)\n",
    "        self.linear_c = nn.Linear(hid_size * 2, hid_size)\n",
    "\n",
    "    def forward(self, input_batch, input_lens):\n",
    "        \"\"\"\n",
    "        :param input_batch: (s, b)\n",
    "        :param input_lens: (b)\n",
    "\n",
    "        :returns (s, b, 2h), ((1, b, h), (1, b, h))\n",
    "        \"\"\"\n",
    "\n",
    "        batch_size = input_batch.shape[1]\n",
    "\n",
    "        embedded = self.embedding(input_batch)  # (s, b) -> (s, b, h)\n",
    "        output, (hidden_h, hidden_c) = self.lstm(embedded)\n",
    "\n",
    "        hidden_h = hidden_h.transpose(1, 0)  # (2, b, h) -> (b, 2, h)\n",
    "        hidden_h = hidden_h.reshape(batch_size, -1)  # (b, 2, h) -> (b, 2h)\n",
    "        hidden_h = F.dropout(hidden_h, p=0.5, training=self.training)\n",
    "        hidden_h = self.linear_h(hidden_h)  # (b, 2h) -> (b, h)\n",
    "        hidden_h = F.relu(hidden_h)\n",
    "        hidden_h = hidden_h.unsqueeze(0)  # (b, h) -> (1, b, h)\n",
    "\n",
    "        hidden_c = hidden_c.transpose(1, 0)\n",
    "        hidden_c = hidden_c.reshape(batch_size, -1)  # (b, 2, h) -> (b, 2h)\n",
    "        hidden_c = F.dropout(hidden_c, p=0.5, training=self.training)\n",
    "        hidden_c = self.linear_c(hidden_c)\n",
    "        hidden_c = F.relu(hidden_c)\n",
    "        hidden_c = hidden_c.unsqueeze(0)  # (b, h) -> (1, b, h)\n",
    "\n",
    "        return output, (hidden_h, hidden_c)  # (s, b, 2h), ((1, b, h), (1, b, h))\n",
    "\n",
    "\n",
    "class DecoderRNN(nn.Module):\n",
    "    def __init__(self, emb_size, hidden_size, output_size, pad_token=0):\n",
    "        super(DecoderRNN, self).__init__()\n",
    "\n",
    "        self.embedding = nn.Embedding(output_size, emb_size, padding_idx=pad_token)\n",
    "        self.lstm = nn.LSTMCell(emb_size, hidden_size)\n",
    "        self.out_w = nn.Linear(hidden_size, output_size)\n",
    "\n",
    "    def forward(self, input, hidden):\n",
    "        \"\"\"\n",
    "        :param input: (b)\n",
    "        :param hidden: ((b,h), (b,h))\n",
    "        :return: (b,o), (b,h)\n",
    "        \"\"\"\n",
    "\n",
    "        embedded = self.embedding(input)  # (b) -> (b,e)\n",
    "        decoder_output, hidden = self.lstm(embedded, hidden)  # (b,e),((b,h),(b,h)) -> (b,h),((b,h),(b,h))\n",
    "        output = self.out_w(decoder_output)  # (b,h) -> (b,o)\n",
    "        output = F.log_softmax(output, dim=1)\n",
    "\n",
    "        return output, hidden  # (b,o), (b,h)\n",
    "\n",
    "\n",
    "class AttnDecoderRNN1(nn.Module):\n",
    "    def __init__(self, emb_size, hidden_size, output_size, max_length=20):\n",
    "        super(AttnDecoderRNN1, self).__init__()\n",
    "        self.hidden_size = hidden_size\n",
    "        self.output_size = output_size\n",
    "        self.max_length = max_length\n",
    "\n",
    "        self.embedding = nn.Embedding(output_size, emb_size)\n",
    "        self.attn = nn.Linear(emb_size+2*hidden_size, max_length)\n",
    "        self.attn_combine = nn.Linear(emb_size+2*hidden_size, hidden_size)\n",
    "\n",
    "        self.lstm = nn.LSTMCell(hidden_size, hidden_size)\n",
    "        self.out = nn.Linear(hidden_size, output_size)\n",
    "\n",
    "    def forward(self, input, hidden, encoder_outputs):\n",
    "        \"\"\"\n",
    "        :param input: (b)\n",
    "        :param hidden: ((b, h), (b, h))\n",
    "        :param encoder_outputs: (il, b, 2h)\n",
    "        :return: (b,o), ((b,h),(b,h)), (b,il)\n",
    "        \"\"\"\n",
    "        input_length = encoder_outputs.shape[0]\n",
    "        #padding\n",
    "        encoder_outputs = torch.cat([\n",
    "            encoder_outputs,\n",
    "            torch.zeros(\n",
    "                self.max_length - input_length,\n",
    "                encoder_outputs.shape[1],\n",
    "                encoder_outputs.shape[2],\n",
    "                device=device\n",
    "            )\n",
    "        ], dim=0)  # (il,b,2h), (ml-il,b,2h) -> (ml,b,2h)\n",
    "        drop_encoder_outputs = F.dropout(encoder_outputs, p=0.1, training=self.training)\n",
    "        \n",
    "        # embedding\n",
    "        embedded = self.embedding(input)  # (b) -> (b,e)\n",
    "        embedded = F.dropout(embedded, p=0.5, training=self.training)\n",
    "    \n",
    "        emb_hidden = torch.cat([embedded, hidden[0], hidden[1]], dim=1)  # (b,e),((b,h),(b,h)) -> (b,e+2h)\n",
    "\n",
    "        attn_weights = self.attn(emb_hidden)  # (b,e+2h) -> (b,ml)\n",
    "        attn_weights = F.softmax(attn_weights, dim=1)\n",
    "\n",
    "        attn_applied = torch.bmm(\n",
    "            attn_weights.unsqueeze(1),  # (b, 1, ml)\n",
    "            drop_encoder_outputs.transpose(0, 1)  # (b, ml, 2h)\n",
    "        )  # -> (b, 1, 2h)\n",
    "\n",
    "        attn_applied = F.dropout(attn_applied, p=0.1, training=self.training)\n",
    "        output = torch.cat((embedded, attn_applied.squeeze(1)), 1)  # ((b,e),(b,2h)) -> (b,e+2h)\n",
    "        output = self.attn_combine(output)  # (b,e+2h) -> (b,h)\n",
    "        output = F.dropout(output, p=0.5, training=self.training)\n",
    "\n",
    "        output = F.relu(output)\n",
    "        hidden = self.lstm(output, hidden)  # (b,h),((b,h),(b,h)) -> (b,h)((b,h),(b,h))\n",
    "\n",
    "        output = F.log_softmax(self.out(hidden[0]), dim=1)  # (b,h) -> (b,o)\n",
    "        return output, hidden, attn_weights  # (b,o),(b,h),(b,il)\n",
    "\n",
    "\n",
    "class AttnDecoderRNN2(nn.Module):\n",
    "    def __init__(self, emb_size, hidden_size, attn_size, output_size, pad_token=0):\n",
    "        super(AttnDecoderRNN2, self).__init__()\n",
    "        self.hidden_size = hidden_size\n",
    "        self.output_size = output_size\n",
    "\n",
    "        self.embedding = nn.Embedding(output_size, emb_size, padding_idx=pad_token)\n",
    "        self.lstm = nn.LSTMCell(emb_size, hidden_size)\n",
    "\n",
    "        self.score_w = nn.Linear(2*hidden_size, 2*hidden_size)\n",
    "        self.attn_w = nn.Linear(4*hidden_size, attn_size)\n",
    "        self.out_w = nn.Linear(attn_size, output_size)\n",
    "\n",
    "    def forward(self, input, hidden, encoder_outputs):\n",
    "        \"\"\"\n",
    "        :param: input: (b)\n",
    "        :param: hidden: ((b,h),(b,h))\n",
    "        :param: encoder_outputs: (il,b,2h)\n",
    "\n",
    "        :return: (b,o), ((b,h),(b,h)), (b,il)\n",
    "        \"\"\"\n",
    "        \n",
    "        embedded = self.embedding(input)  # (b) -> (b,e)\n",
    "        embedded = F.dropout(embedded, p=0.5, training=self.training)\n",
    "        \n",
    "        hidden = self.lstm(embedded, hidden)  # (b,e),((b,h),(b,h)) -> ((b,h),(b,h))\n",
    "        decoder_output = torch.cat(hidden, dim=1)  # ((b,h),(b,h)) -> (b,2h)\n",
    "        decoder_output = F.dropout(decoder_output, p=0.5, training=self.training)\n",
    "\n",
    "        # score\n",
    "        score = self.score_w(decoder_output)  # (b,2h) -> (b,2h)\n",
    "        scores = torch.bmm(\n",
    "            encoder_outputs.transpose(0, 1),  # (b,il,2h)\n",
    "            score.unsqueeze(2)  # (b,2h,1)\n",
    "        )  # (b,il,1)\n",
    "        attn_weights = F.softmax(scores, dim=1)  # (b,il,1)\n",
    "\n",
    "        # context\n",
    "        context = torch.bmm(\n",
    "            attn_weights.transpose(1, 2),  # (b,1,il)\n",
    "            encoder_outputs.transpose(0, 1)  # (b,il,2h)\n",
    "        )  # (b,1,2h)\n",
    "        context = context.squeeze(1)  # (b,1,2h) -> (b,2h)\n",
    "\n",
    "        concat = torch.cat((context, decoder_output), dim=1)  # ((b,2h),(b,2h)) -> (b,4h)\n",
    "        #concat = F.dropout(concat, p=0.5, training=self.training)\n",
    "\n",
    "        attentional = self.attn_w(concat)  # (b,4h) -> (b,a)\n",
    "        attentional = F.tanh(attentional)\n",
    "        #attentional = F.dropout(attentional, p=0.5, training=self.training)\n",
    "\n",
    "        output = self.out_w(attentional)  # (b,a) -> (b,o)\n",
    "        output = F.log_softmax(output, dim=1)\n",
    "\n",
    "        return output, hidden, attn_weights.squeeze(2)  # (b,o), ((b,h),(b,h)), (b,il)\n"
   ]
  },
  {
   "cell_type": "code",
   "execution_count": 14,
   "metadata": {},
   "outputs": [
    {
     "data": {
      "text/plain": [
       "(torch.Size([11, 10]), torch.Size([10]))"
      ]
     },
     "execution_count": 14,
     "metadata": {},
     "output_type": "execute_result"
    }
   ],
   "source": [
    "batch_size = 10\n",
    "emb_size = 8\n",
    "hid_size = 12\n",
    "attn_size = 9\n",
    "\n",
    "# test encoder\n",
    "test_encoder = EncoderRNN(input_lang.n_words, emb_size, hid_size).to(device)\n",
    "for input_batch, input_lens, output_batch, output_lens in generate_batch(train_pairs, batch_size):\n",
    "    break\n",
    "input_batch.shape, input_lens.shape"
   ]
  },
  {
   "cell_type": "code",
   "execution_count": 15,
   "metadata": {},
   "outputs": [
    {
     "data": {
      "text/plain": [
       "(torch.Size([11, 10, 24]), torch.Size([1, 10, 12]), torch.Size([1, 10, 12]))"
      ]
     },
     "execution_count": 15,
     "metadata": {},
     "output_type": "execute_result"
    }
   ],
   "source": [
    "encoder_outputs, (hidden_h, hidden_c) = test_encoder(input_batch, input_lens)\n",
    "encoder_outputs.shape, hidden_h.shape, hidden_c.shape"
   ]
  },
  {
   "cell_type": "code",
   "execution_count": 16,
   "metadata": {},
   "outputs": [
    {
     "data": {
      "text/plain": [
       "(torch.Size([10, 12]), torch.Size([10, 12]))"
      ]
     },
     "execution_count": 16,
     "metadata": {},
     "output_type": "execute_result"
    }
   ],
   "source": [
    "hidden = (hidden_h.squeeze(0), hidden_c.squeeze(0))\n",
    "hidden[0].shape, hidden[1].shape"
   ]
  },
  {
   "cell_type": "code",
   "execution_count": 17,
   "metadata": {},
   "outputs": [
    {
     "data": {
      "text/plain": [
       "(torch.Size([10, 8777]),\n",
       " torch.Size([10, 12]),\n",
       " torch.Size([10, 12]),\n",
       " torch.Size([10, 18]))"
      ]
     },
     "execution_count": 17,
     "metadata": {},
     "output_type": "execute_result"
    }
   ],
   "source": [
    "test_decoder1 = AttnDecoderRNN1(emb_size, hid_size, output_lang.n_words, max_length=MAX_LENGTH).to(device)\n",
    "decoder_input = torch.tensor([SOS_token] * batch_size, device=device)\n",
    "decoder_outputs, hidden, attn_weights = test_decoder1(decoder_input, hidden, encoder_outputs)\n",
    "decoder_outputs.shape, hidden[0].shape, hidden[1].shape, attn_weights.shape"
   ]
  },
  {
   "cell_type": "code",
   "execution_count": 18,
   "metadata": {},
   "outputs": [
    {
     "data": {
      "text/plain": [
       "8.979015350341797"
      ]
     },
     "execution_count": 18,
     "metadata": {},
     "output_type": "execute_result"
    }
   ],
   "source": [
    "criterion = nn.NLLLoss(ignore_index=PAD_token)\n",
    "loss = criterion(decoder_outputs, output_batch[0])\n",
    "loss.item()"
   ]
  },
  {
   "cell_type": "code",
   "execution_count": 19,
   "metadata": {},
   "outputs": [
    {
     "data": {
      "text/plain": [
       "(torch.Size([10, 8777]),\n",
       " torch.Size([10, 12]),\n",
       " torch.Size([10, 12]),\n",
       " torch.Size([10, 11]))"
      ]
     },
     "execution_count": 19,
     "metadata": {},
     "output_type": "execute_result"
    }
   ],
   "source": [
    "test_decoder2 = AttnDecoderRNN2(emb_size, hid_size, attn_size, output_lang.n_words).to(device)\n",
    "decoder_outputs, hidden, attn_weights = test_decoder2(decoder_input, hidden, encoder_outputs)\n",
    "decoder_outputs.shape, hidden[0].shape, hidden[1].shape, attn_weights.shape"
   ]
  },
  {
   "cell_type": "markdown",
   "metadata": {},
   "source": [
    "# 便利関数群"
   ]
  },
  {
   "cell_type": "code",
   "execution_count": 20,
   "metadata": {},
   "outputs": [],
   "source": [
    "def batch_train(input_batch, input_lens, target_batch, target_lens,\n",
    "                encoder, decoder, optimizer, criterion,\n",
    "                teacher_forcing_ratio=0.5):\n",
    "\n",
    "    loss = 0\n",
    "    optimizer.zero_grad()\n",
    "\n",
    "    batch_size = input_batch.shape[1]\n",
    "    target_length = target_lens.max().item()\n",
    "\n",
    "    encoder_outputs, encoder_hidden = encoder(input_batch, input_lens)  # (s, b, 2h), ((1, b, h), (1, b, h))\n",
    "    \n",
    "    decoder_input = torch.tensor([[SOS_token] * batch_size], device=device)  # (1, b)\n",
    "    decoder_inputs = torch.cat([decoder_input, target_batch], dim=0)  # (1,b), (n,b) -> (n+1, b)\n",
    "    decoder_hidden = (encoder_hidden[0].squeeze(0), encoder_hidden[1].squeeze(0))\n",
    "    \n",
    "    use_teacher_forcing = True if random.random() < teacher_forcing_ratio else False\n",
    "\n",
    "    if use_teacher_forcing:\n",
    "        # Teacher forcing: Feed the target as the next input\n",
    "    \n",
    "        for di in range(target_length):\n",
    "            decoder_output, decoder_hidden, attention = decoder(\n",
    "                decoder_inputs[di], decoder_hidden, encoder_outputs)\n",
    "\n",
    "            loss += criterion(decoder_output, decoder_inputs[di+1])\n",
    "    else:\n",
    "        decoder_input = decoder_inputs[0]\n",
    "        for di in range(target_length):\n",
    "            decoder_output, decoder_hidden, attention = decoder(\n",
    "                decoder_input, decoder_hidden, encoder_outputs)\n",
    "\n",
    "            loss += criterion(decoder_output, decoder_inputs[di+1])\n",
    "\n",
    "            _, topi = decoder_output.topk(1)  # (b,odim) -> (b,1)\n",
    "            decoder_input = topi.squeeze(1).detach() \n",
    "\n",
    "    loss.backward()\n",
    "\n",
    "    optimizer.step()\n",
    "\n",
    "    return loss.item() / target_length"
   ]
  },
  {
   "cell_type": "code",
   "execution_count": 21,
   "metadata": {},
   "outputs": [],
   "source": [
    "def batch_evaluation(input_batch, input_lens, target_batch, target_lens, encoder, decoder, criterion):\n",
    "    with torch.no_grad():\n",
    "        \n",
    "        batch_size = input_batch.shape[1]\n",
    "        target_length = target_lens.max().item()\n",
    "        target_batch = target_batch[:target_length]\n",
    "\n",
    "        loss = 0\n",
    "        \n",
    "        encoder_outputs, encoder_hidden = encoder(input_batch, input_lens)  # (s, b, 2h), ((1, b, h), (1, b, h))\n",
    "        decoder_input = torch.tensor([SOS_token] * batch_size, device=device)  # (b)\n",
    "        decoder_hidden = (encoder_hidden[0].squeeze(0), encoder_hidden[1].squeeze(0))\n",
    "        decoded_outputs = torch.zeros(target_length, batch_size, output_lang.n_words, device=device)\n",
    "        decoded_words = torch.zeros(batch_size, target_length, device=device)\n",
    "        \n",
    "        for di in range(target_length):\n",
    "            decoder_output, decoder_hidden, _ = decoder(\n",
    "                decoder_input, decoder_hidden, encoder_outputs)  # (b,odim), ((b,h),(b,h)), (b,il)        \n",
    "            decoded_outputs[di] = decoder_output\n",
    "            \n",
    "            loss += criterion(decoder_output, target_batch[di])\n",
    "        \n",
    "            _, topi = decoder_output.topk(1)  # (b,odim) -> (b,1)\n",
    "            decoded_words[:, di] = topi[:, 0]  # (b)\n",
    "            decoder_input = topi.squeeze(1)\n",
    "        \n",
    "        bleu = 0\n",
    "        for bi in range(batch_size):\n",
    "            try:\n",
    "                end_idx = decoded_words[bi, :].tolist().index(EOS_token)\n",
    "            except:\n",
    "                end_idx = target_length\n",
    "            score = compute_bleu(\n",
    "                [[[output_lang.index2word[i] for i in target_batch[:, bi].tolist() if i > 2]]],\n",
    "                [[output_lang.index2word[j] for j in decoded_words[bi, :].tolist()[:end_idx]]]\n",
    "            )\n",
    "            bleu += score\n",
    "\n",
    "        return loss.item() / target_length, bleu / float(batch_size)"
   ]
  },
  {
   "cell_type": "code",
   "execution_count": 22,
   "metadata": {},
   "outputs": [],
   "source": [
    "from nltk.translate.bleu_score import sentence_bleu\n",
    "def compute_bleu(trues, preds):\n",
    "    return np.mean([sentence_bleu(gt, p, emulate_multibleu=True) for gt, p in zip(trues, preds)])"
   ]
  },
  {
   "cell_type": "code",
   "execution_count": 23,
   "metadata": {},
   "outputs": [
    {
     "data": {
      "text/plain": [
       "(9.137786865234375, 0.0)"
      ]
     },
     "execution_count": 23,
     "metadata": {},
     "output_type": "execute_result"
    }
   ],
   "source": [
    "for ib, il, ob, ol in generate_batch(train_pairs, 100):\n",
    "    break\n",
    "batch_evaluation(ib, il, ob, ol, test_encoder, test_decoder1, criterion)"
   ]
  },
  {
   "cell_type": "code",
   "execution_count": 24,
   "metadata": {},
   "outputs": [],
   "source": [
    "def inference(encoder, decoder, sentence, max_length=MAX_LENGTH):\n",
    "    with torch.no_grad():\n",
    "        input_indxs, input_length = tensorFromSentence(input_lang, sentence)\n",
    "        input_batch = torch.tensor([input_indxs], dtype=torch.long, device=device)  # (1, s)\n",
    "        input_length = torch.tensor([input_length])  # (1)\n",
    "        \n",
    "        encoder_outputs, encoder_hidden = encoder(input_batch.transpose(0, 1), input_length)\n",
    "\n",
    "        decoder_input = torch.tensor([SOS_token], device=device)  # (1)\n",
    "\n",
    "        decoder_hidden = (encoder_hidden[0].squeeze(0), encoder_hidden[1].squeeze(0))\n",
    "\n",
    "        decoded_words = []\n",
    "        attentions = []\n",
    "        \n",
    "        for di in range(max_length):\n",
    "            decoder_output, decoder_hidden, attention = decoder(\n",
    "                decoder_input, decoder_hidden, encoder_outputs)  # (1,odim), ((1,h),(1,h)), (l,1)\n",
    "            attentions.append(attention)\n",
    "            _, topi = decoder_output.topk(1)  # (1, 1)\n",
    "            if topi.item() == EOS_token:\n",
    "                decoded_words.append('<EOS>')\n",
    "                break\n",
    "            else:\n",
    "                decoded_words.append(output_lang.index2word[topi.item()])\n",
    "\n",
    "            decoder_input = topi[0]\n",
    "        \n",
    "        attentions = torch.cat(attentions, dim=0)  # (l, n)\n",
    "        \n",
    "            \n",
    "        return decoded_words, attentions.squeeze(0).cpu().numpy()"
   ]
  },
  {
   "cell_type": "markdown",
   "metadata": {},
   "source": [
    "# 学習のイテレーション"
   ]
  },
  {
   "cell_type": "code",
   "execution_count": 25,
   "metadata": {},
   "outputs": [
    {
     "name": "stderr",
     "output_type": "stream",
     "text": [
      "/home/takoroy/datascience/lib/python3.6/site-packages/h5py/__init__.py:36: FutureWarning: Conversion of the second argument of issubdtype from `float` to `np.floating` is deprecated. In future, it will be treated as `np.float64 == np.dtype(float).type`.\n",
      "  from ._conv import register_converters as _register_converters\n",
      "Using TensorFlow backend.\n"
     ]
    }
   ],
   "source": [
    "from livelossplot import PlotLosses\n",
    "%matplotlib inline"
   ]
  },
  {
   "cell_type": "code",
   "execution_count": 26,
   "metadata": {},
   "outputs": [],
   "source": [
    "def train_iters(encoder, decoder, epochs=30, batch_size=200, teacher_forcing=0.5, early_stopping=5):\n",
    "    \n",
    "    liveloss = PlotLosses()\n",
    "    optimizer = optim.Adam([p for p in encoder.parameters()] + [p for p in decoder.parameters()])\n",
    "\n",
    "    criterion = nn.NLLLoss(ignore_index=PAD_token)\n",
    "\n",
    "    validation_bleus = []\n",
    "    \n",
    "    for epoch in range(epochs):\n",
    "        total_loss = 0\n",
    "        for input_batch, input_lens, target_batch, target_lens in generate_batch(train_pairs, batch_size=batch_size):\n",
    "            loss = batch_train(input_batch, input_lens, target_batch, target_lens, encoder,\n",
    "                        decoder, optimizer, criterion, teacher_forcing)\n",
    "            total_loss += loss\n",
    "            train_loss = total_loss / (len(train_pairs) / batch_size)\n",
    "        \n",
    "        total_bleu = 0\n",
    "        for input_batch, input_lens, target_batch, target_lens in generate_batch(train_pairs, batch_size=batch_size, shuffle=False):\n",
    "            loss, bleu = batch_evaluation(input_batch, input_lens, target_batch, target_lens, encoder, decoder, criterion)\n",
    "            total_bleu += bleu\n",
    "        train_bleu = total_bleu / (len(train_pairs) / batch_size)\n",
    "        \n",
    "        total_loss = 0\n",
    "        total_bleu = 0\n",
    "        for input_batch, input_lens, target_batch, target_lens in generate_batch(test_pairs, batch_size=batch_size, shuffle=False):\n",
    "            loss, bleu = batch_evaluation(input_batch, input_lens, target_batch, target_lens, encoder, decoder, criterion)\n",
    "            total_loss += loss\n",
    "            total_bleu += bleu\n",
    "        validation_loss = total_loss / (len(test_pairs) / batch_size)\n",
    "        validation_bleu = total_bleu / (len(test_pairs) / batch_size)\n",
    "        \n",
    "        liveloss.update({\n",
    "            'loss': train_loss,\n",
    "            'bleu': train_bleu,\n",
    "            'val_bleu': validation_bleu\n",
    "        })\n",
    "        liveloss.draw()\n",
    "\n",
    "        validation_bleus.append(validation_bleu)\n",
    "        if max(validation_bleus[-early_stopping:]) < max(validation_bleus):\n",
    "            break\n",
    "    \n",
    "    return max(validation_bleus)"
   ]
  },
  {
   "cell_type": "markdown",
   "metadata": {},
   "source": [
    "# Attentionの可視化とランダム評価"
   ]
  },
  {
   "cell_type": "code",
   "execution_count": 27,
   "metadata": {},
   "outputs": [],
   "source": [
    "def show_attention(input_sentence, output_words, attentions):\n",
    "    # Set up figure with colorbar\n",
    "    input_words = input_sentence.split(' ')\n",
    "    \n",
    "    fig, ax = plt.subplots()\n",
    "    cax = ax.matshow(attentions[:, :len(output_words)], cmap='bone')\n",
    "    fig.colorbar(cax)\n",
    "\n",
    "    # Set up axes\n",
    "    ax.set_xticklabels([''] + input_words + ['<EOS>'], rotation=90)\n",
    "    ax.set_yticklabels([''] + output_words)\n",
    "\n",
    "    # Show label at every tick\n",
    "    ax.xaxis.set_major_locator(ticker.MultipleLocator(1))\n",
    "    ax.yaxis.set_major_locator(ticker.MultipleLocator(1))\n",
    "\n",
    "    plt.show()"
   ]
  },
  {
   "cell_type": "code",
   "execution_count": 28,
   "metadata": {},
   "outputs": [],
   "source": [
    "def show_plot(points):\n",
    "    plt.figure()\n",
    "    fig, ax = plt.subplots()\n",
    "    # this locator puts ticks at regular intervals\n",
    "    loc = ticker.MultipleLocator(base=0.2)\n",
    "    ax.yaxis.set_major_locator(loc)\n",
    "    plt.plot(points)"
   ]
  },
  {
   "cell_type": "code",
   "execution_count": 29,
   "metadata": {},
   "outputs": [],
   "source": [
    "def evaluate_randomly(pairs, encoder, decoder, n=10): \n",
    "    scores = []\n",
    "    for i in range(n):\n",
    "        pair = random.choice(pairs)\n",
    "        print('>', pair[0])\n",
    "        print('=', pair[1])\n",
    "        output_words, attentions = inference(encoder, decoder, pair[0])\n",
    "        output_sentence = ' '.join(output_words)\n",
    "        print('<', output_sentence)\n",
    "        score = compute_bleu([[pair[1].split()]], [output_words[:-1]])\n",
    "        print('bleu:', score)\n",
    "        print('')\n",
    "\n",
    "        show_attention(pair[0], output_words, attentions)\n",
    "        scores.append(score)\n",
    "    return scores\n"
   ]
  },
  {
   "cell_type": "markdown",
   "metadata": {},
   "source": [
    "# 学習と評価"
   ]
  },
  {
   "cell_type": "code",
   "execution_count": 30,
   "metadata": {},
   "outputs": [
    {
     "data": {
      "image/png": "[encoded data removed]",
      "text/plain": [
       "<Figure size 864x576 with 2 Axes>"
      ]
     },
     "metadata": {},
     "output_type": "display_data"
    },
    {
     "data": {
      "text/plain": [
       "0.16615263000000002"
      ]
     },
     "execution_count": 30,
     "metadata": {},
     "output_type": "execute_result"
    }
   ],
   "source": [
    "emb_size = 1024\n",
    "hidden_size = 1024\n",
    "\n",
    "encoder = EncoderRNN(input_lang.n_words, emb_size, hidden_size).to(device)\n",
    "decoder = AttnDecoderRNN1(emb_size, hidden_size, output_lang.n_words).to(device)\n",
    "train_iters(encoder, decoder, batch_size=200, epochs= 20, teacher_forcing=0.9, early_stopping=3)"
   ]
  },
  {
   "cell_type": "code",
   "execution_count": 31,
   "metadata": {},
   "outputs": [
    {
     "name": "stdout",
     "output_type": "stream",
     "text": [
      "> i wish you 'd never been born .\n",
      "= 生まれ て こ な かっ たら よ かっ た ん だ よ 。\n",
      "< あなた が もっと 恋し かっ たら い い の に なあ 。 <EOS>\n",
      "bleu: 0.0\n",
      "\n"
     ]
    },
    {
     "data": {
      "image/png": "[encoded data removed]",
      "text/plain": [
       "<Figure size 432x288 with 2 Axes>"
      ]
     },
     "metadata": {},
     "output_type": "display_data"
    },
    {
     "name": "stdout",
     "output_type": "stream",
     "text": [
      "> i could not sleep much last night .\n",
      "= 昨夜 は ろく に 眠れ な かっ た 。\n",
      "< 私 は 昨晩 は 眠れ な かっ た 。 <EOS>\n",
      "bleu: 0.4671\n",
      "\n"
     ]
    },
    {
     "data": {
      "image/png": "[encoded data removed]",
      "text/plain": [
       "<Figure size 432x288 with 2 Axes>"
      ]
     },
     "metadata": {},
     "output_type": "display_data"
    },
    {
     "name": "stdout",
     "output_type": "stream",
     "text": [
      "> he is always late for school .\n",
      "= 彼 は いつ も 学校 に 遅刻 する 。\n",
      "< 彼 は いつ も 学校 に 遅刻 する 。 <EOS>\n",
      "bleu: 1.0\n",
      "\n"
     ]
    },
    {
     "data": {
      "image/png": "[encoded data removed]",
      "text/plain": [
       "<Figure size 432x288 with 2 Axes>"
      ]
     },
     "metadata": {},
     "output_type": "display_data"
    },
    {
     "name": "stdout",
     "output_type": "stream",
     "text": [
      "> he is sure to succeed .\n",
      "= 彼 は 必ず 成功 する 。\n",
      "< 彼 は きっと 成功 する と い う 。 <EOS>\n",
      "bleu: 0.0\n",
      "\n"
     ]
    },
    {
     "data": {
      "image/png": "[encoded data removed]",
      "text/plain": [
       "<Figure size 432x288 with 2 Axes>"
      ]
     },
     "metadata": {},
     "output_type": "display_data"
    },
    {
     "name": "stdout",
     "output_type": "stream",
     "text": [
      "> come into the room after me .\n",
      "= 私 に つ い て 部屋 に 入 り なさ い 。\n",
      "< 部屋 の 中 に 入 っ て き て くださ い 。 <EOS>\n",
      "bleu: 0.0\n",
      "\n"
     ]
    },
    {
     "data": {
      "image/png": "[encoded data removed]",
      "text/plain": [
       "<Figure size 432x288 with 2 Axes>"
      ]
     },
     "metadata": {},
     "output_type": "display_data"
    },
    {
     "data": {
      "text/plain": [
       "[0.0, 0.4671, 1.0, 0.0, 0.0]"
      ]
     },
     "execution_count": 31,
     "metadata": {},
     "output_type": "execute_result"
    }
   ],
   "source": [
    "evaluate_randomly(test_pairs, encoder, decoder, n=5)"
   ]
  },
  {
   "cell_type": "code",
   "execution_count": null,
   "metadata": {},
   "outputs": [
    {
     "data": {
      "image/png": "[encoded data removed]",
      "text/plain": [
       "<Figure size 864x576 with 2 Axes>"
      ]
     },
     "metadata": {},
     "output_type": "display_data"
    }
   ],
   "source": [
    "emb_size = 1024\n",
    "hidden_size = 1024\n",
    "attn_size = 1024\n",
    "\n",
    "encoder = EncoderRNN(input_lang.n_words, emb_size, hidden_size).to(device)\n",
    "decoder = AttnDecoderRNN2(emb_size, hidden_size, attn_size, output_lang.n_words).to(device)\n",
    "train_iters(encoder, decoder, batch_size=200, epochs=20, teacher_forcing=0.9, early_stopping=3)"
   ]
  },
  {
   "cell_type": "code",
   "execution_count": 34,
   "metadata": {},
   "outputs": [
    {
     "name": "stdout",
     "output_type": "stream",
     "text": [
      "> that week had nothing to do with discrimination .\n",
      "= その 週間 は 差別 と は 関係 が な かっ た 。\n",
      "< その 政治 は 何 と 何 も する こと が な かっ た 。 <EOS>\n",
      "bleu: 0.299\n",
      "\n"
     ]
    },
    {
     "data": {
      "image/png": "[encoded data removed]",
      "text/plain": [
       "<Figure size 432x288 with 2 Axes>"
      ]
     },
     "metadata": {},
     "output_type": "display_data"
    },
    {
     "name": "stdout",
     "output_type": "stream",
     "text": [
      "> there was not a cloud in the sky .\n",
      "= 空 に は 雲 一 つ な かっ た 。\n",
      "< 空 の 空 に は も な かっ た 。 <EOS>\n",
      "bleu: 0.3799\n",
      "\n"
     ]
    },
    {
     "data": {
      "image/png": "[encoded data removed]",
      "text/plain": [
       "<Figure size 432x288 with 2 Axes>"
      ]
     },
     "metadata": {},
     "output_type": "display_data"
    },
    {
     "name": "stdout",
     "output_type": "stream",
     "text": [
      "> he goes there every day .\n",
      "= 彼 は 毎日 そこ へ 行 く 。\n",
      "< 彼 は 毎日 そこ へ 行 く 。 <EOS>\n",
      "bleu: 1.0\n",
      "\n"
     ]
    },
    {
     "data": {
      "image/png": "[encoded data removed]",
      "text/plain": [
       "<Figure size 432x288 with 2 Axes>"
      ]
     },
     "metadata": {},
     "output_type": "display_data"
    },
    {
     "name": "stdout",
     "output_type": "stream",
     "text": [
      "> a few minutes ' walk brought us to the park .\n",
      "= 数 分歩 い て 私 達 は 公園 へ 来 た 。\n",
      "< ３ 分歩 分歩 く と 公園 が 着 た 。 <EOS>\n",
      "bleu: 0.0\n",
      "\n"
     ]
    },
    {
     "data": {
      "image/png": "[encoded data removed]",
      "text/plain": [
       "<Figure size 432x288 with 2 Axes>"
      ]
     },
     "metadata": {},
     "output_type": "display_data"
    },
    {
     "name": "stdout",
     "output_type": "stream",
     "text": [
      "> i think what you say is true .\n",
      "= おっしゃ る こと は 本当 だ と 思 い ま す 。\n",
      "< 君 が 言 う と は 本当 だ と 思 う 。 <EOS>\n",
      "bleu: 0.3318\n",
      "\n"
     ]
    },
    {
     "data": {
      "image/png": "[encoded data removed]",
      "text/plain": [
       "<Figure size 432x288 with 2 Axes>"
      ]
     },
     "metadata": {},
     "output_type": "display_data"
    },
    {
     "data": {
      "text/plain": [
       "[0.299, 0.3799, 1.0, 0.0, 0.3318]"
      ]
     },
     "execution_count": 34,
     "metadata": {},
     "output_type": "execute_result"
    }
   ],
   "source": [
    "evaluate_randomly(test_pairs, encoder, decoder, n=5)"
   ]
  },
  {
   "cell_type": "code",
   "execution_count": null,
   "metadata": {},
   "outputs": [],
   "source": []
  }
 ],
 "metadata": {
  "kernelspec": {
   "display_name": "Python 3",
   "language": "python",
   "name": "python3"
  },
  "language_info": {
   "codemirror_mode": {
    "name": "ipython",
    "version": 3
   },
   "file_extension": ".py",
   "mimetype": "text/x-python",
   "name": "python",
   "nbconvert_exporter": "python",
   "pygments_lexer": "ipython3",
   "version": "3.6.5"
  }
 },
 "nbformat": 4,
 "nbformat_minor": 2
}
