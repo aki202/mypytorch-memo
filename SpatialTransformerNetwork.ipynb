{
  "nbformat": 4,
  "nbformat_minor": 0,
  "metadata": {
    "colab": {
      "name": "SpatialTransformerNetwork.ipynb",
      "version": "0.3.2",
      "provenance": [],
      "collapsed_sections": [],
      "toc_visible": true,
      "include_colab_link": true
    },
    "kernelspec": {
      "name": "python3",
      "display_name": "Python 3"
    },
    "accelerator": "GPU"
  },
  "cells": [
    {
      "cell_type": "markdown",
      "metadata": {
        "id": "view-in-github",
        "colab_type": "text"
      },
      "source": [
        "<a href=\"https://colab.research.google.com/github/takoroy/mypytorch-memo/blob/master/SpatialTransformerNetwork.ipynb\" target=\"_parent\"><img src=\"https://colab.research.google.com/assets/colab-badge.svg\" alt=\"Open In Colab\"/></a>"
      ]
    },
    {
      "metadata": {
        "id": "usZS1Ku4UUrO",
        "colab_type": "text"
      },
      "cell_type": "markdown",
      "source": [
        "# [SPATIAL TRANSFORMER NETWORKS TUTORIAL](https://pytorch.org/tutorials/intermediate/spatial_transformer_tutorial.html) のメモ"
      ]
    },
    {
      "metadata": {
        "id": "X8QwU3DBbmBi",
        "colab_type": "text"
      },
      "cell_type": "markdown",
      "source": [
        "## 環境のセットアップ\n",
        "\n",
        "ColabのCUDAのバージョンは変わることがあるので、CUDAのバージョンを確認してから、最新のPyTorchとtorchvisionをインストールしましょう。"
      ]
    },
    {
      "metadata": {
        "id": "g60prYRSTX6p",
        "colab_type": "code",
        "outputId": "69d22f2f-9735-4600-9bda-0c031a1f0ee0",
        "colab": {
          "base_uri": "https://localhost:8080/",
          "height": 326
        }
      },
      "cell_type": "code",
      "source": [
        "# PyTorchのインストール\n",
        "! pip install torch torchvision"
      ],
      "execution_count": 0,
      "outputs": [
        {
          "output_type": "stream",
          "text": [
            "Collecting torch\n",
            "\u001b[?25l  Downloading https://files.pythonhosted.org/packages/7e/60/66415660aa46b23b5e1b72bc762e816736ce8d7260213e22365af51e8f9c/torch-1.0.0-cp36-cp36m-manylinux1_x86_64.whl (591.8MB)\n",
            "\u001b[K    100% |████████████████████████████████| 591.8MB 27kB/s \n",
            "tcmalloc: large alloc 1073750016 bytes == 0x61f40000 @  0x7f21b29412a4 0x591a07 0x5b5d56 0x502e9a 0x506859 0x502209 0x502f3d 0x506859 0x504c28 0x502540 0x502f3d 0x506859 0x504c28 0x502540 0x502f3d 0x506859 0x504c28 0x502540 0x502f3d 0x507641 0x502209 0x502f3d 0x506859 0x504c28 0x502540 0x502f3d 0x507641 0x504c28 0x502540 0x502f3d 0x507641\n",
            "\u001b[?25hCollecting torchvision\n",
            "\u001b[?25l  Downloading https://files.pythonhosted.org/packages/ca/0d/f00b2885711e08bd71242ebe7b96561e6f6d01fdb4b9dcf4d37e2e13c5e1/torchvision-0.2.1-py2.py3-none-any.whl (54kB)\n",
            "\u001b[K    100% |████████████████████████████████| 61kB 18.6MB/s \n",
            "\u001b[?25hRequirement already satisfied: numpy in /usr/local/lib/python3.6/dist-packages (from torchvision) (1.14.6)\n",
            "Requirement already satisfied: six in /usr/local/lib/python3.6/dist-packages (from torchvision) (1.11.0)\n",
            "Collecting pillow>=4.1.1 (from torchvision)\n",
            "\u001b[?25l  Downloading https://files.pythonhosted.org/packages/62/94/5430ebaa83f91cc7a9f687ff5238e26164a779cca2ef9903232268b0a318/Pillow-5.3.0-cp36-cp36m-manylinux1_x86_64.whl (2.0MB)\n",
            "\u001b[K    100% |████████████████████████████████| 2.0MB 3.7MB/s \n",
            "\u001b[?25hInstalling collected packages: torch, pillow, torchvision\n",
            "  Found existing installation: Pillow 4.0.0\n",
            "    Uninstalling Pillow-4.0.0:\n",
            "      Successfully uninstalled Pillow-4.0.0\n",
            "Successfully installed pillow-5.3.0 torch-1.0.0 torchvision-0.2.1\n"
          ],
          "name": "stdout"
        }
      ]
    },
    {
      "metadata": {
        "id": "xQue9syITyey",
        "colab_type": "code",
        "outputId": "9774bee6-6199-4df0-eea7-9d651c05cb19",
        "colab": {
          "base_uri": "https://localhost:8080/",
          "height": 34
        }
      },
      "cell_type": "code",
      "source": [
        "import torch\n",
        "torch.__version__"
      ],
      "execution_count": 0,
      "outputs": [
        {
          "output_type": "execute_result",
          "data": {
            "text/plain": [
              "'1.0.0'"
            ]
          },
          "metadata": {
            "tags": []
          },
          "execution_count": 2
        }
      ]
    },
    {
      "metadata": {
        "id": "7BdeHukHcPgx",
        "colab_type": "text"
      },
      "cell_type": "markdown",
      "source": [
        "## パッケージのimport、cudaの利用"
      ]
    },
    {
      "metadata": {
        "id": "HnX1XGEjUKrE",
        "colab_type": "code",
        "colab": {}
      },
      "cell_type": "code",
      "source": [
        "from __future__ import print_function\n",
        "import torch\n",
        "import torch.nn as nn\n",
        "import torch.nn.functional as F\n",
        "import torch.optim as optim\n",
        "import torchvision\n",
        "from torchvision import datasets, transforms\n",
        "import matplotlib.pyplot as plt\n",
        "import numpy as np\n",
        "\n",
        "plt.style.use('default')  # colab上では、matplotlibに独自のスタイルが適用されていますが、通常のmatplotlibのスタイルに戻しています。"
      ],
      "execution_count": 0,
      "outputs": []
    },
    {
      "metadata": {
        "id": "9JvYLuP3bjLv",
        "colab_type": "code",
        "colab": {}
      },
      "cell_type": "code",
      "source": [
        "device = torch.device(\"cuda\" if torch.cuda.is_available() else \"cpu\")"
      ],
      "execution_count": 0,
      "outputs": []
    },
    {
      "metadata": {
        "id": "9gznd39iUwrS",
        "colab_type": "code",
        "outputId": "f9ea3034-6694-4e57-c543-c34475690239",
        "colab": {
          "base_uri": "https://localhost:8080/",
          "height": 34
        }
      },
      "cell_type": "code",
      "source": [
        "# ちゃんと\"cuda\"になっていることを確認しましょう。\"cuda\"になっていないときは、Colaboratoryのランタイムを選択し直しましょう。\n",
        "device"
      ],
      "execution_count": 0,
      "outputs": [
        {
          "output_type": "execute_result",
          "data": {
            "text/plain": [
              "device(type='cuda')"
            ]
          },
          "metadata": {
            "tags": []
          },
          "execution_count": 5
        }
      ]
    },
    {
      "metadata": {
        "id": "mt4IYG-OcXyR",
        "colab_type": "text"
      },
      "cell_type": "markdown",
      "source": [
        "## データセットの作成\n",
        "\n",
        "MNISTをそのままでも良いのですが、より難しい[こちら](https://github.com/oarriaga/STN.keras)のデータを使わせていただきましょう。"
      ]
    },
    {
      "metadata": {
        "id": "EiJH3Mr3nk5n",
        "colab_type": "code",
        "outputId": "91342a0a-17ab-4b37-9e1d-0e58c20a41c6",
        "colab": {
          "base_uri": "https://localhost:8080/",
          "height": 309
        }
      },
      "cell_type": "code",
      "source": [
        "! wget https://github.com/oarriaga/STN.keras/raw/master/datasets/mnist_cluttered_60x60_6distortions.npz -O mnist.npz"
      ],
      "execution_count": 0,
      "outputs": [
        {
          "output_type": "stream",
          "text": [
            "--2018-12-18 12:03:26--  https://github.com/oarriaga/STN.keras/raw/master/datasets/mnist_cluttered_60x60_6distortions.npz\n",
            "Resolving github.com (github.com)... 192.30.253.113, 192.30.253.112\n",
            "Connecting to github.com (github.com)|192.30.253.113|:443... connected.\n",
            "HTTP request sent, awaiting response... 302 Found\n",
            "Location: https://raw.githubusercontent.com/oarriaga/STN.keras/master/datasets/mnist_cluttered_60x60_6distortions.npz [following]\n",
            "--2018-12-18 12:03:26--  https://raw.githubusercontent.com/oarriaga/STN.keras/master/datasets/mnist_cluttered_60x60_6distortions.npz\n",
            "Resolving raw.githubusercontent.com (raw.githubusercontent.com)... 151.101.0.133, 151.101.64.133, 151.101.128.133, ...\n",
            "Connecting to raw.githubusercontent.com (raw.githubusercontent.com)|151.101.0.133|:443... connected.\n",
            "HTTP request sent, awaiting response... 200 OK\n",
            "Length: 43046126 (41M) [application/octet-stream]\n",
            "Saving to: ‘mnist.npz’\n",
            "\n",
            "mnist.npz           100%[===================>]  41.05M   170MB/s    in 0.2s    \n",
            "\n",
            "2018-12-18 12:03:27 (170 MB/s) - ‘mnist.npz’ saved [43046126/43046126]\n",
            "\n"
          ],
          "name": "stdout"
        }
      ]
    },
    {
      "metadata": {
        "id": "AeRx2_hOnxoh",
        "colab_type": "code",
        "colab": {}
      },
      "cell_type": "code",
      "source": [
        "data = np.load('mnist.npz')"
      ],
      "execution_count": 0,
      "outputs": []
    },
    {
      "metadata": {
        "id": "hVPEzcNorYWc",
        "colab_type": "code",
        "colab": {}
      },
      "cell_type": "code",
      "source": [
        "from torch.utils.data import Dataset, DataLoader\n",
        "\n",
        "class MNISTDataset(Dataset):\n",
        "    def __init__(self, x, y):\n",
        "        self.x = x\n",
        "        self.y = y\n",
        "        \n",
        "    def __len__(self):\n",
        "        return len(self.y)\n",
        "    \n",
        "    def __getitem__(self, idx):\n",
        "        return self.x[idx].reshape(1, 60, 60), np.argmax(self.y[idx])\n",
        "    "
      ],
      "execution_count": 0,
      "outputs": []
    },
    {
      "metadata": {
        "id": "69X5bz14rzNI",
        "colab_type": "code",
        "colab": {}
      },
      "cell_type": "code",
      "source": [
        "train_dataset = MNISTDataset(data['x_train'], data['y_train'])\n",
        "test_dataset = MNISTDataset(data['x_test'], data['y_test'])"
      ],
      "execution_count": 0,
      "outputs": []
    },
    {
      "metadata": {
        "id": "O5FjH-gE6Hhb",
        "colab_type": "code",
        "outputId": "78ea747c-1c71-4433-9fe1-2b529174ebda",
        "colab": {
          "base_uri": "https://localhost:8080/",
          "height": 469
        }
      },
      "cell_type": "code",
      "source": [
        "# こんな感じのきたない画像です。\n",
        "plt.title(train_dataset[11][1])\n",
        "plt.imshow(train_dataset[11][0].transpose(1, 2, 0)[:,:,0], cmap=\"gray\")"
      ],
      "execution_count": 0,
      "outputs": [
        {
          "output_type": "execute_result",
          "data": {
            "text/plain": [
              "<matplotlib.image.AxesImage at 0x7f2cc0dad908>"
            ]
          },
          "metadata": {
            "tags": []
          },
          "execution_count": 10
        },
        {
          "output_type": "display_data",
          "data": {
            "image/png": "[encoded data removed]",
            "text/plain": [
              "<matplotlib.figure.Figure at 0x7f2cc15d2588>"
            ]
          },
          "metadata": {
            "tags": []
          }
        }
      ]
    },
    {
      "metadata": {
        "id": "rx1Uiz_t_4AZ",
        "colab_type": "code",
        "outputId": "7798e390-a48f-4d23-c9a0-5b057189fd0f",
        "colab": {
          "base_uri": "https://localhost:8080/",
          "height": 34
        }
      },
      "cell_type": "code",
      "source": [
        "# (0, 1)に正規化されています\n",
        "test_dataset[0][0].min(), test_dataset[0][0].max()"
      ],
      "execution_count": 0,
      "outputs": [
        {
          "output_type": "execute_result",
          "data": {
            "text/plain": [
              "(0.0, 1.0)"
            ]
          },
          "metadata": {
            "tags": []
          },
          "execution_count": 12
        }
      ]
    },
    {
      "metadata": {
        "id": "Mo_tIs-kUTpb",
        "colab_type": "code",
        "colab": {}
      },
      "cell_type": "code",
      "source": [
        "# Training dataloader\n",
        "train_loader = torch.utils.data.DataLoader(train_dataset, batch_size=64, shuffle=True, num_workers=4)\n",
        "# Test dataloader\n",
        "test_loader = torch.utils.data.DataLoader(test_dataset, batch_size=64, shuffle=True, num_workers=4)"
      ],
      "execution_count": 0,
      "outputs": []
    },
    {
      "metadata": {
        "id": "NogxU0XrctJM",
        "colab_type": "text"
      },
      "cell_type": "markdown",
      "source": [
        "## ネットワークの定義"
      ]
    },
    {
      "metadata": {
        "id": "knSQjVyYUycu",
        "colab_type": "code",
        "colab": {}
      },
      "cell_type": "code",
      "source": [
        "class Net(nn.Module):\n",
        "    def __init__(self):\n",
        "        super(Net, self).__init__()\n",
        "        \n",
        "        self.classifier = nn.Sequential(\n",
        "            nn.AvgPool2d(2, stride=2),                   # [1, 60, 60] -> [1, 30, 30]\n",
        "            nn.Conv2d(1, 10, kernel_size=5),        # [1, 30, 30] -> [10, 26, 26]\n",
        "            nn.ReLU(True),\n",
        "            nn.Conv2d(10, 20, kernel_size=3),      # [10, 26, 26] -> [20, 24, 24]\n",
        "            nn.ReLU(True),\n",
        "            nn.MaxPool2d(2, stride=2),                    # [20, 24, 24] -> [20, 12, 12]\n",
        "            nn.Conv2d(20, 20, kernel_size=3),      # [20, 12, 12] -> [20, 10, 10]\n",
        "            nn.Dropout2d(),\n",
        "            nn.MaxPool2d(2, stride=2)                     # [20, 10, 10] -> [20, 5, 5]\n",
        "        )\n",
        "        \n",
        "        self.fc_clf = nn.Sequential(\n",
        "            nn.Linear(20*5*5, 50),\n",
        "            nn.ReLU(True),\n",
        "            nn.Dropout(),\n",
        "            nn.Linear(50, 10)\n",
        "        )\n",
        "\n",
        "        # Spatial transformer localization-network\n",
        "        self.localization = nn.Sequential(\n",
        "            nn.Conv2d(1, 8, kernel_size=5),       # [1, 60, 60] -> [8, 56, 56]\n",
        "            nn.MaxPool2d(2, stride=2),                # [8, 56, 56] -> [8, 28, 28]\n",
        "            nn.ReLU(True),\n",
        "            nn.Conv2d(8, 10, kernel_size=5),     # [8, 28, 28] -> [10, 24, 24]\n",
        "            nn.MaxPool2d(2, stride=2),                # [10, 24, 24] -> [10, 12, 12]\n",
        "            nn.ReLU(True),\n",
        "            nn.Conv2d(10, 10, kernel_size=3),   # [10, 12, 12] -> [10, 10, 10]\n",
        "            nn.MaxPool2d(2, stride=2),                 # [10, 10, 10] -> [10, 5, 5]\n",
        "            nn.ReLU(True)\n",
        "        )\n",
        "\n",
        "        # Regressor for the 3 * 2 affine matrix\n",
        "        self.fc_loc = nn.Sequential(\n",
        "            nn.Linear(10 * 5 * 5, 32),\n",
        "            nn.ReLU(True),\n",
        "            nn.Linear(32, 3 * 2)\n",
        "        )\n",
        "\n",
        "        # Initialize the weights/bias with identity transformation\n",
        "        # この初期化によって、未学習時は恒等変換を行うようにする。\n",
        "        self.fc_loc[2].weight.data.zero_()\n",
        "        self.fc_loc[2].bias.data.copy_(torch.tensor([1, 0, 0, 0, 1, 0], dtype=torch.float))\n",
        "\n",
        "    # Spatial transformer network forward function\n",
        "    def stn(self, x):\n",
        "        xs = self.localization(x)\n",
        "        xs = xs.view(-1, 10 * 5 * 5)\n",
        "        theta = self.fc_loc(xs)\n",
        "        theta = theta.view(-1, 2, 3)\n",
        "\n",
        "        grid = F.affine_grid(theta, x.size())\n",
        "        x = F.grid_sample(x, grid)\n",
        "\n",
        "        return x\n",
        "\n",
        "    def forward(self, x):\n",
        "        # transform the input\n",
        "        x = self.stn(x)\n",
        "        \n",
        "        # Perform the usual forward pass\n",
        "        x = self.classifier(x)\n",
        "        x = x.view(-1, 20 * 5 * 5)\n",
        "        x = self.fc_clf(x)\n",
        "        return F.log_softmax(x, dim=1)\n",
        "\n",
        "\n",
        "model = Net().to(device)"
      ],
      "execution_count": 0,
      "outputs": []
    },
    {
      "metadata": {
        "id": "LkpgBSA3cy8a",
        "colab_type": "text"
      },
      "cell_type": "markdown",
      "source": [
        "## オプティマイザと学習・評価関数の作成"
      ]
    },
    {
      "metadata": {
        "id": "5LJUL7d7U4fp",
        "colab_type": "code",
        "colab": {}
      },
      "cell_type": "code",
      "source": [
        "optimizer = optim.SGD(model.parameters(), momentum=0.9, lr=0.001)\n",
        "\n",
        "\n",
        "def train(epoch):\n",
        "    model.train()\n",
        "    for batch_idx, (data, target) in enumerate(train_loader):\n",
        "        data, target = data.to(device), target.to(device)\n",
        "\n",
        "        optimizer.zero_grad()\n",
        "        output = model(data)\n",
        "        loss = F.nll_loss(output, target)\n",
        "        loss.backward()\n",
        "        optimizer.step()\n",
        "        if batch_idx % 500 == 0:\n",
        "            print('Train Epoch: {} [{}/{} ({:.0f}%)]\\tLoss: {:.6f}'.format(\n",
        "                epoch, batch_idx * len(data), len(train_loader.dataset),\n",
        "                100. * batch_idx / len(train_loader), loss.item()))\n",
        "#\n",
        "# A simple test procedure to measure STN the performances on MNIST.\n",
        "#\n",
        "\n",
        "\n",
        "def test():\n",
        "    with torch.no_grad():\n",
        "        model.eval()\n",
        "        test_loss = 0\n",
        "        correct = 0\n",
        "        for data, target in test_loader:\n",
        "            data, target = data.to(device), target.to(device)\n",
        "            output = model(data)\n",
        "\n",
        "            # sum up batch loss\n",
        "            test_loss += F.nll_loss(output, target, size_average=False).item()\n",
        "            # get the index of the max log-probability\n",
        "            pred = output.max(1, keepdim=True)[1]\n",
        "            correct += pred.eq(target.view_as(pred)).sum().item()\n",
        "\n",
        "        test_loss /= len(test_loader.dataset)\n",
        "        print('\\nTest set: Average loss: {:.4f}, Accuracy: {}/{} ({:.0f}%)\\n'\n",
        "              .format(test_loss, correct, len(test_loader.dataset),\n",
        "                      100. * correct / len(test_loader.dataset)))"
      ],
      "execution_count": 0,
      "outputs": []
    },
    {
      "metadata": {
        "id": "JEr9tbSDc5nA",
        "colab_type": "text"
      },
      "cell_type": "markdown",
      "source": [
        "## 可視化のための関数の作成"
      ]
    },
    {
      "metadata": {
        "id": "r_s_olXPVUII",
        "colab_type": "code",
        "colab": {}
      },
      "cell_type": "code",
      "source": [
        "def convert_image_np(inp):\n",
        "    \"\"\"Convert a Tensor to numpy image.\"\"\"\n",
        "    inp = inp.numpy().transpose((1, 2, 0))\n",
        "    return inp\n",
        "\n",
        "# We want to visualize the output of the spatial transformers layer\n",
        "# after the training, we visualize a batch of input images and\n",
        "# the corresponding transformed batch using STN.\n",
        "\n",
        "\n",
        "def visualize_stn():\n",
        "  \n",
        "    plt.figure(figsize=(12, 8), dpi=300)\n",
        "  \n",
        "    with torch.no_grad():\n",
        "        # Get a batch of training data\n",
        "        data = next(iter(test_loader))[0].to(device)\n",
        "\n",
        "        input_tensor = data.cpu()\n",
        "        transformed_input_tensor = model.stn(data).cpu()\n",
        "\n",
        "        in_grid = convert_image_np(\n",
        "            torchvision.utils.make_grid(input_tensor))\n",
        "\n",
        "        out_grid = convert_image_np(\n",
        "            torchvision.utils.make_grid(transformed_input_tensor))\n",
        "\n",
        "        # Plot the results side-by-side\n",
        "        f, axarr = plt.subplots(1, 2)\n",
        "        axarr[0].imshow(in_grid)\n",
        "        axarr[0].set_title('Dataset Images')\n",
        "\n",
        "        axarr[1].imshow(out_grid)\n",
        "        axarr[1].set_title('Transformed Images')"
      ],
      "execution_count": 0,
      "outputs": []
    },
    {
      "metadata": {
        "id": "nTZUbxujfbhI",
        "colab_type": "text"
      },
      "cell_type": "markdown",
      "source": [
        "## 学習と評価"
      ]
    },
    {
      "metadata": {
        "id": "CHlBkCm8VZIw",
        "colab_type": "code",
        "outputId": "1c7d80fb-d109-420e-e6f4-92d90a44db86",
        "colab": {
          "base_uri": "https://localhost:8080/",
          "height": 4321
        }
      },
      "cell_type": "code",
      "source": [
        "for epoch in range(1, 50 + 1):\n",
        "    train(epoch)\n",
        "    test()"
      ],
      "execution_count": 0,
      "outputs": [
        {
          "output_type": "stream",
          "text": [
            "Train Epoch: 1 [0/50000 (0%)]\tLoss: 2.303558\n",
            "Train Epoch: 1 [32000/50000 (64%)]\tLoss: 2.296911\n"
          ],
          "name": "stdout"
        },
        {
          "output_type": "stream",
          "text": [
            "/usr/local/lib/python3.6/dist-packages/torch/nn/_reduction.py:49: UserWarning: size_average and reduce args will be deprecated, please use reduction='sum' instead.\n",
            "  warnings.warn(warning.format(ret))\n"
          ],
          "name": "stderr"
        },
        {
          "output_type": "stream",
          "text": [
            "\n",
            "Test set: Average loss: 2.3016, Accuracy: 1119/10000 (11%)\n",
            "\n",
            "Train Epoch: 2 [0/50000 (0%)]\tLoss: 2.295781\n",
            "Train Epoch: 2 [32000/50000 (64%)]\tLoss: 2.312482\n",
            "\n",
            "Test set: Average loss: 2.3011, Accuracy: 1119/10000 (11%)\n",
            "\n",
            "Train Epoch: 3 [0/50000 (0%)]\tLoss: 2.301089\n",
            "Train Epoch: 3 [32000/50000 (64%)]\tLoss: 2.296744\n",
            "\n",
            "Test set: Average loss: 2.3008, Accuracy: 1119/10000 (11%)\n",
            "\n",
            "Train Epoch: 4 [0/50000 (0%)]\tLoss: 2.312964\n",
            "Train Epoch: 4 [32000/50000 (64%)]\tLoss: 2.302592\n",
            "\n",
            "Test set: Average loss: 2.3006, Accuracy: 1119/10000 (11%)\n",
            "\n",
            "Train Epoch: 5 [0/50000 (0%)]\tLoss: 2.308052\n",
            "Train Epoch: 5 [32000/50000 (64%)]\tLoss: 2.287472\n",
            "\n",
            "Test set: Average loss: 2.3002, Accuracy: 1119/10000 (11%)\n",
            "\n",
            "Train Epoch: 6 [0/50000 (0%)]\tLoss: 2.298405\n",
            "Train Epoch: 6 [32000/50000 (64%)]\tLoss: 2.294202\n",
            "\n",
            "Test set: Average loss: 2.2997, Accuracy: 1119/10000 (11%)\n",
            "\n",
            "Train Epoch: 7 [0/50000 (0%)]\tLoss: 2.285587\n",
            "Train Epoch: 7 [32000/50000 (64%)]\tLoss: 2.296405\n",
            "\n",
            "Test set: Average loss: 2.2989, Accuracy: 1119/10000 (11%)\n",
            "\n",
            "Train Epoch: 8 [0/50000 (0%)]\tLoss: 2.303222\n",
            "Train Epoch: 8 [32000/50000 (64%)]\tLoss: 2.284831\n",
            "\n",
            "Test set: Average loss: 2.2968, Accuracy: 1226/10000 (12%)\n",
            "\n",
            "Train Epoch: 9 [0/50000 (0%)]\tLoss: 2.306561\n",
            "Train Epoch: 9 [32000/50000 (64%)]\tLoss: 2.300640\n",
            "\n",
            "Test set: Average loss: 2.2912, Accuracy: 1504/10000 (15%)\n",
            "\n",
            "Train Epoch: 10 [0/50000 (0%)]\tLoss: 2.273570\n",
            "Train Epoch: 10 [32000/50000 (64%)]\tLoss: 2.277196\n",
            "\n",
            "Test set: Average loss: 2.2735, Accuracy: 1637/10000 (16%)\n",
            "\n",
            "Train Epoch: 11 [0/50000 (0%)]\tLoss: 2.263857\n",
            "Train Epoch: 11 [32000/50000 (64%)]\tLoss: 2.277494\n",
            "\n",
            "Test set: Average loss: 2.2259, Accuracy: 1800/10000 (18%)\n",
            "\n",
            "Train Epoch: 12 [0/50000 (0%)]\tLoss: 2.163546\n",
            "Train Epoch: 12 [32000/50000 (64%)]\tLoss: 2.260455\n",
            "\n",
            "Test set: Average loss: 2.1803, Accuracy: 1929/10000 (19%)\n",
            "\n",
            "Train Epoch: 13 [0/50000 (0%)]\tLoss: 2.227114\n",
            "Train Epoch: 13 [32000/50000 (64%)]\tLoss: 2.167962\n",
            "\n",
            "Test set: Average loss: 2.1429, Accuracy: 2077/10000 (21%)\n",
            "\n",
            "Train Epoch: 14 [0/50000 (0%)]\tLoss: 2.117263\n",
            "Train Epoch: 14 [32000/50000 (64%)]\tLoss: 2.123270\n",
            "\n",
            "Test set: Average loss: 2.0929, Accuracy: 2205/10000 (22%)\n",
            "\n",
            "Train Epoch: 15 [0/50000 (0%)]\tLoss: 2.160194\n",
            "Train Epoch: 15 [32000/50000 (64%)]\tLoss: 1.973955\n",
            "\n",
            "Test set: Average loss: 2.0107, Accuracy: 2372/10000 (24%)\n",
            "\n",
            "Train Epoch: 16 [0/50000 (0%)]\tLoss: 2.001567\n",
            "Train Epoch: 16 [32000/50000 (64%)]\tLoss: 1.980488\n",
            "\n",
            "Test set: Average loss: 1.9613, Accuracy: 2526/10000 (25%)\n",
            "\n",
            "Train Epoch: 17 [0/50000 (0%)]\tLoss: 1.930698\n",
            "Train Epoch: 17 [32000/50000 (64%)]\tLoss: 1.908490\n",
            "\n",
            "Test set: Average loss: 1.9476, Accuracy: 2454/10000 (25%)\n",
            "\n",
            "Train Epoch: 18 [0/50000 (0%)]\tLoss: 2.025485\n",
            "Train Epoch: 18 [32000/50000 (64%)]\tLoss: 1.911431\n",
            "\n",
            "Test set: Average loss: 1.8725, Accuracy: 2868/10000 (29%)\n",
            "\n",
            "Train Epoch: 19 [0/50000 (0%)]\tLoss: 1.875840\n",
            "Train Epoch: 19 [32000/50000 (64%)]\tLoss: 1.744531\n",
            "\n",
            "Test set: Average loss: 1.6782, Accuracy: 4314/10000 (43%)\n",
            "\n",
            "Train Epoch: 20 [0/50000 (0%)]\tLoss: 1.916070\n",
            "Train Epoch: 20 [32000/50000 (64%)]\tLoss: 1.574373\n",
            "\n",
            "Test set: Average loss: 1.2842, Accuracy: 5775/10000 (58%)\n",
            "\n",
            "Train Epoch: 21 [0/50000 (0%)]\tLoss: 1.440777\n",
            "Train Epoch: 21 [32000/50000 (64%)]\tLoss: 1.328783\n",
            "\n",
            "Test set: Average loss: 0.9113, Accuracy: 7202/10000 (72%)\n",
            "\n",
            "Train Epoch: 22 [0/50000 (0%)]\tLoss: 1.588994\n",
            "Train Epoch: 22 [32000/50000 (64%)]\tLoss: 1.014768\n",
            "\n",
            "Test set: Average loss: 0.6915, Accuracy: 7894/10000 (79%)\n",
            "\n",
            "Train Epoch: 23 [0/50000 (0%)]\tLoss: 0.964075\n",
            "Train Epoch: 23 [32000/50000 (64%)]\tLoss: 0.541268\n",
            "\n",
            "Test set: Average loss: 0.5794, Accuracy: 8263/10000 (83%)\n",
            "\n",
            "Train Epoch: 24 [0/50000 (0%)]\tLoss: 1.030831\n",
            "Train Epoch: 24 [32000/50000 (64%)]\tLoss: 0.987214\n",
            "\n",
            "Test set: Average loss: 0.4448, Accuracy: 8661/10000 (87%)\n",
            "\n",
            "Train Epoch: 25 [0/50000 (0%)]\tLoss: 1.122827\n",
            "Train Epoch: 25 [32000/50000 (64%)]\tLoss: 0.707000\n",
            "\n",
            "Test set: Average loss: 0.4718, Accuracy: 8514/10000 (85%)\n",
            "\n",
            "Train Epoch: 26 [0/50000 (0%)]\tLoss: 0.555793\n",
            "Train Epoch: 26 [32000/50000 (64%)]\tLoss: 0.634263\n",
            "\n",
            "Test set: Average loss: 0.4093, Accuracy: 8754/10000 (88%)\n",
            "\n",
            "Train Epoch: 27 [0/50000 (0%)]\tLoss: 0.631269\n",
            "Train Epoch: 27 [32000/50000 (64%)]\tLoss: 0.514663\n",
            "\n",
            "Test set: Average loss: 0.3549, Accuracy: 8885/10000 (89%)\n",
            "\n",
            "Train Epoch: 28 [0/50000 (0%)]\tLoss: 0.388011\n",
            "Train Epoch: 28 [32000/50000 (64%)]\tLoss: 0.460215\n",
            "\n",
            "Test set: Average loss: 0.3468, Accuracy: 8897/10000 (89%)\n",
            "\n",
            "Train Epoch: 29 [0/50000 (0%)]\tLoss: 0.624373\n",
            "Train Epoch: 29 [32000/50000 (64%)]\tLoss: 0.406315\n",
            "\n",
            "Test set: Average loss: 0.2935, Accuracy: 9095/10000 (91%)\n",
            "\n",
            "Train Epoch: 30 [0/50000 (0%)]\tLoss: 0.535018\n",
            "Train Epoch: 30 [32000/50000 (64%)]\tLoss: 0.684376\n",
            "\n",
            "Test set: Average loss: 0.3236, Accuracy: 9030/10000 (90%)\n",
            "\n",
            "Train Epoch: 31 [0/50000 (0%)]\tLoss: 0.274518\n",
            "Train Epoch: 31 [32000/50000 (64%)]\tLoss: 0.342119\n",
            "\n",
            "Test set: Average loss: 0.2861, Accuracy: 9115/10000 (91%)\n",
            "\n",
            "Train Epoch: 32 [0/50000 (0%)]\tLoss: 0.442864\n",
            "Train Epoch: 32 [32000/50000 (64%)]\tLoss: 0.385374\n",
            "\n",
            "Test set: Average loss: 0.2826, Accuracy: 9116/10000 (91%)\n",
            "\n",
            "Train Epoch: 33 [0/50000 (0%)]\tLoss: 0.370349\n",
            "Train Epoch: 33 [32000/50000 (64%)]\tLoss: 0.498986\n",
            "\n",
            "Test set: Average loss: 0.2703, Accuracy: 9179/10000 (92%)\n",
            "\n",
            "Train Epoch: 34 [0/50000 (0%)]\tLoss: 0.327933\n",
            "Train Epoch: 34 [32000/50000 (64%)]\tLoss: 0.449893\n",
            "\n",
            "Test set: Average loss: 0.2729, Accuracy: 9130/10000 (91%)\n",
            "\n",
            "Train Epoch: 35 [0/50000 (0%)]\tLoss: 0.526736\n",
            "Train Epoch: 35 [32000/50000 (64%)]\tLoss: 0.506177\n",
            "\n",
            "Test set: Average loss: 0.2717, Accuracy: 9154/10000 (92%)\n",
            "\n",
            "Train Epoch: 36 [0/50000 (0%)]\tLoss: 0.447810\n",
            "Train Epoch: 36 [32000/50000 (64%)]\tLoss: 0.675251\n",
            "\n",
            "Test set: Average loss: 0.2408, Accuracy: 9257/10000 (93%)\n",
            "\n",
            "Train Epoch: 37 [0/50000 (0%)]\tLoss: 0.585076\n",
            "Train Epoch: 37 [32000/50000 (64%)]\tLoss: 0.638933\n",
            "\n",
            "Test set: Average loss: 0.2726, Accuracy: 9143/10000 (91%)\n",
            "\n",
            "Train Epoch: 38 [0/50000 (0%)]\tLoss: 0.636593\n",
            "Train Epoch: 38 [32000/50000 (64%)]\tLoss: 0.862105\n",
            "\n",
            "Test set: Average loss: 0.2471, Accuracy: 9217/10000 (92%)\n",
            "\n",
            "Train Epoch: 39 [0/50000 (0%)]\tLoss: 0.397736\n",
            "Train Epoch: 39 [32000/50000 (64%)]\tLoss: 0.487273\n",
            "\n",
            "Test set: Average loss: 0.2292, Accuracy: 9279/10000 (93%)\n",
            "\n",
            "Train Epoch: 40 [0/50000 (0%)]\tLoss: 0.369942\n",
            "Train Epoch: 40 [32000/50000 (64%)]\tLoss: 0.244699\n",
            "\n",
            "Test set: Average loss: 0.2060, Accuracy: 9341/10000 (93%)\n",
            "\n",
            "Train Epoch: 41 [0/50000 (0%)]\tLoss: 0.463888\n",
            "Train Epoch: 41 [32000/50000 (64%)]\tLoss: 0.400113\n",
            "\n",
            "Test set: Average loss: 0.2335, Accuracy: 9270/10000 (93%)\n",
            "\n",
            "Train Epoch: 42 [0/50000 (0%)]\tLoss: 0.426720\n",
            "Train Epoch: 42 [32000/50000 (64%)]\tLoss: 0.453274\n",
            "\n",
            "Test set: Average loss: 0.2262, Accuracy: 9295/10000 (93%)\n",
            "\n",
            "Train Epoch: 43 [0/50000 (0%)]\tLoss: 0.395080\n",
            "Train Epoch: 43 [32000/50000 (64%)]\tLoss: 0.267613\n",
            "\n",
            "Test set: Average loss: 0.2532, Accuracy: 9189/10000 (92%)\n",
            "\n",
            "Train Epoch: 44 [0/50000 (0%)]\tLoss: 0.346890\n",
            "Train Epoch: 44 [32000/50000 (64%)]\tLoss: 0.372960\n",
            "\n",
            "Test set: Average loss: 0.2462, Accuracy: 9244/10000 (92%)\n",
            "\n",
            "Train Epoch: 45 [0/50000 (0%)]\tLoss: 0.355155\n",
            "Train Epoch: 45 [32000/50000 (64%)]\tLoss: 0.270603\n",
            "\n",
            "Test set: Average loss: 0.2267, Accuracy: 9279/10000 (93%)\n",
            "\n",
            "Train Epoch: 46 [0/50000 (0%)]\tLoss: 0.414245\n",
            "Train Epoch: 46 [32000/50000 (64%)]\tLoss: 0.318015\n",
            "\n",
            "Test set: Average loss: 0.1974, Accuracy: 9363/10000 (94%)\n",
            "\n",
            "Train Epoch: 47 [0/50000 (0%)]\tLoss: 0.348291\n",
            "Train Epoch: 47 [32000/50000 (64%)]\tLoss: 0.297115\n",
            "\n",
            "Test set: Average loss: 0.1994, Accuracy: 9388/10000 (94%)\n",
            "\n",
            "Train Epoch: 48 [0/50000 (0%)]\tLoss: 0.265868\n",
            "Train Epoch: 48 [32000/50000 (64%)]\tLoss: 0.400391\n",
            "\n",
            "Test set: Average loss: 0.2016, Accuracy: 9375/10000 (94%)\n",
            "\n",
            "Train Epoch: 49 [0/50000 (0%)]\tLoss: 0.256639\n",
            "Train Epoch: 49 [32000/50000 (64%)]\tLoss: 0.330991\n",
            "\n",
            "Test set: Average loss: 0.1839, Accuracy: 9417/10000 (94%)\n",
            "\n",
            "Train Epoch: 50 [0/50000 (0%)]\tLoss: 0.442390\n",
            "Train Epoch: 50 [32000/50000 (64%)]\tLoss: 0.433901\n",
            "\n",
            "Test set: Average loss: 0.1959, Accuracy: 9385/10000 (94%)\n",
            "\n"
          ],
          "name": "stdout"
        }
      ]
    },
    {
      "metadata": {
        "id": "PjpBhGtxfgpr",
        "colab_type": "text"
      },
      "cell_type": "markdown",
      "source": [
        "## アフィン変換結果の可視化"
      ]
    },
    {
      "metadata": {
        "id": "TeOMzlxoVc7O",
        "colab_type": "code",
        "outputId": "adbb8805-4143-4b7b-d714-fd9e2db2385e",
        "colab": {
          "base_uri": "https://localhost:8080/",
          "height": 325
        }
      },
      "cell_type": "code",
      "source": [
        "# Visualize the STN transformation on some input batch\n",
        "visualize_stn()\n",
        "plt.savefig(\"stn_result.png\")\n",
        "plt.show()"
      ],
      "execution_count": 0,
      "outputs": [
        {
          "output_type": "display_data",
          "data": {
            "text/plain": [
              "<matplotlib.figure.Figure at 0x7f2cc15d2400>"
            ]
          },
          "metadata": {
            "tags": []
          }
        },
        {
          "output_type": "display_data",
          "data": {
            "image/png": "[encoded data removed]",
            "text/plain": [
              "<matplotlib.figure.Figure at 0x7f2cc15d24e0>"
            ]
          },
          "metadata": {
            "tags": []
          }
        }
      ]
    },
    {
      "metadata": {
        "id": "uPK3fhI05jGr",
        "colab_type": "code",
        "colab": {}
      },
      "cell_type": "code",
      "source": [
        "# 画像のダウンロード\n",
        "from google.colab import files\n",
        "files.download(\"stn_result.png\") "
      ],
      "execution_count": 0,
      "outputs": []
    },
    {
      "metadata": {
        "id": "79e-u8dk3Eyi",
        "colab_type": "code",
        "colab": {}
      },
      "cell_type": "code",
      "source": [
        ""
      ],
      "execution_count": 0,
      "outputs": []
    },
    {
      "metadata": {
        "id": "i3MV-Ifwp9KE",
        "colab_type": "text"
      },
      "cell_type": "markdown",
      "source": [
        "#APPENDIX\n",
        "\n",
        "F.affine_gridの処理結果の可視化"
      ]
    },
    {
      "metadata": {
        "id": "GHslcL8ZqMHc",
        "colab_type": "code",
        "colab": {}
      },
      "cell_type": "code",
      "source": [
        "import matplotlib.pyplot as plt\n",
        "import numpy as np\n",
        "import cv2\n",
        "\n"
      ],
      "execution_count": 0,
      "outputs": []
    },
    {
      "metadata": {
        "id": "5U-onbfAqOTW",
        "colab_type": "code",
        "outputId": "37d90168-1827-452b-d8a1-58a4c07fb1d5",
        "colab": {
          "base_uri": "https://localhost:8080/",
          "height": 452
        }
      },
      "cell_type": "code",
      "source": [
        "# 元画像\n",
        "org_img = np.zeros((256, 256))\n",
        "org_img[150:200, 50:100] = 1.0\n",
        "plt.imshow(org_img, cmap=\"gray\")\n"
      ],
      "execution_count": 0,
      "outputs": [
        {
          "output_type": "execute_result",
          "data": {
            "text/plain": [
              "<matplotlib.image.AxesImage at 0x7f2cc0398cc0>"
            ]
          },
          "metadata": {
            "tags": []
          },
          "execution_count": 21
        },
        {
          "output_type": "display_data",
          "data": {
            "image/png": "[encoded data removed]",
            "text/plain": [
              "<matplotlib.figure.Figure at 0x7f2cc03e27b8>"
            ]
          },
          "metadata": {
            "tags": []
          }
        }
      ]
    },
    {
      "metadata": {
        "id": "5_ZNosq3qnAG",
        "colab_type": "code",
        "colab": {}
      },
      "cell_type": "code",
      "source": [
        "org_tensor = torch.Tensor([[org_img]])"
      ],
      "execution_count": 0,
      "outputs": []
    },
    {
      "metadata": {
        "id": "MRWfozBOuTIT",
        "colab_type": "text"
      },
      "cell_type": "markdown",
      "source": [
        "##恒等変換"
      ]
    },
    {
      "metadata": {
        "id": "QvM3rvuXrtvx",
        "colab_type": "code",
        "colab": {}
      },
      "cell_type": "code",
      "source": [
        "theta = torch.FloatTensor([[[1, 0, 0], [0, 1, 0]]])\n",
        "grid = F.affine_grid(theta, org_tensor.size())"
      ],
      "execution_count": 0,
      "outputs": []
    },
    {
      "metadata": {
        "id": "3uPKfW6qshx7",
        "colab_type": "code",
        "outputId": "6c0f71a0-886d-418a-8b0a-f19811c0c001",
        "colab": {
          "base_uri": "https://localhost:8080/",
          "height": 34
        }
      },
      "cell_type": "code",
      "source": [
        "grid.min(), grid.max()"
      ],
      "execution_count": 0,
      "outputs": [
        {
          "output_type": "execute_result",
          "data": {
            "text/plain": [
              "(tensor(-1.), tensor(1.))"
            ]
          },
          "metadata": {
            "tags": []
          },
          "execution_count": 24
        }
      ]
    },
    {
      "metadata": {
        "id": "1iCv_3t7rvLr",
        "colab_type": "code",
        "outputId": "13417ee6-8e0f-4e7c-cd84-9e3896e0ed1c",
        "colab": {
          "base_uri": "https://localhost:8080/",
          "height": 403
        }
      },
      "cell_type": "code",
      "source": [
        "fig, axs = plt.subplots(1, 2)\n",
        "axs[0].imshow(grid[0, :, :, 0])\n",
        "im = axs[1].imshow(grid[0, :, :, 1])\n",
        "\n",
        "fig.subplots_adjust(right=0.8)\n",
        "cbar_ax = fig.add_axes([0.85, 0.15, 0.05, 0.7])\n",
        "fig.colorbar(im, cax=cbar_ax)"
      ],
      "execution_count": 0,
      "outputs": [
        {
          "output_type": "execute_result",
          "data": {
            "text/plain": [
              "<matplotlib.colorbar.Colorbar at 0x7f2cc0044908>"
            ]
          },
          "metadata": {
            "tags": []
          },
          "execution_count": 25
        },
        {
          "output_type": "display_data",
          "data": {
            "image/png": "[encoded data removed]",
            "text/plain": [
              "<matplotlib.figure.Figure at 0x7f2cc03bc3c8>"
            ]
          },
          "metadata": {
            "tags": []
          }
        }
      ]
    },
    {
      "metadata": {
        "id": "vDrNCeKWuh4H",
        "colab_type": "code",
        "outputId": "82a0f519-39c7-4b6e-a0d8-9bbe5a211ec1",
        "colab": {
          "base_uri": "https://localhost:8080/",
          "height": 452
        }
      },
      "cell_type": "code",
      "source": [
        "transformed = F.grid_sample(org_tensor, grid)[0, 0]\n",
        "plt.imshow(transformed, cmap=\"gray\")"
      ],
      "execution_count": 0,
      "outputs": [
        {
          "output_type": "execute_result",
          "data": {
            "text/plain": [
              "<matplotlib.image.AxesImage at 0x7f2ca3365dd8>"
            ]
          },
          "metadata": {
            "tags": []
          },
          "execution_count": 26
        },
        {
          "output_type": "display_data",
          "data": {
            "image/png": "[encoded data removed]",
            "text/plain": [
              "<matplotlib.figure.Figure at 0x7f2cc03e5a20>"
            ]
          },
          "metadata": {
            "tags": []
          }
        }
      ]
    },
    {
      "metadata": {
        "id": "1JvCWdwpuW2s",
        "colab_type": "text"
      },
      "cell_type": "markdown",
      "source": [
        "##回転・拡大・平行移動\n",
        "\n"
      ]
    },
    {
      "metadata": {
        "id": "K5E8VuxwsTJN",
        "colab_type": "code",
        "colab": {}
      },
      "cell_type": "code",
      "source": [
        "theta = torch.FloatTensor([[[np.cos(np.pi/4), np.sin(np.pi/4), 0], [-np.sin(np.pi/4), np.cos(np.pi/4), 0]]])\n",
        "grid = F.affine_grid(theta, org_tensor.size())"
      ],
      "execution_count": 0,
      "outputs": []
    },
    {
      "metadata": {
        "id": "wz3IqSa1sct3",
        "colab_type": "code",
        "outputId": "d30e2df8-6425-4d10-fcb2-431a8e562c6b",
        "colab": {
          "base_uri": "https://localhost:8080/",
          "height": 403
        }
      },
      "cell_type": "code",
      "source": [
        "fig, axs = plt.subplots(1, 2)\n",
        "axs[0].imshow(grid[0, :, :, 0], vmin=-1, vmax=1)\n",
        "im = axs[1].imshow(grid[0, :, :, 1], vmin=-1, vmax=1)\n",
        "\n",
        "fig.subplots_adjust(right=0.8)\n",
        "cbar_ax = fig.add_axes([0.85, 0.15, 0.05, 0.7])\n",
        "fig.colorbar(im, cax=cbar_ax)"
      ],
      "execution_count": 0,
      "outputs": [
        {
          "output_type": "execute_result",
          "data": {
            "text/plain": [
              "<matplotlib.colorbar.Colorbar at 0x7f2ca3286c50>"
            ]
          },
          "metadata": {
            "tags": []
          },
          "execution_count": 28
        },
        {
          "output_type": "display_data",
          "data": {
            "image/png": "[encoded data removed]",
            "text/plain": [
              "<matplotlib.figure.Figure at 0x7f2ca3309d68>"
            ]
          },
          "metadata": {
            "tags": []
          }
        }
      ]
    },
    {
      "metadata": {
        "id": "0o9mhxzqyvB8",
        "colab_type": "code",
        "outputId": "1d2fe889-d885-424e-83db-3480618509cf",
        "colab": {
          "base_uri": "https://localhost:8080/",
          "height": 34
        }
      },
      "cell_type": "code",
      "source": [
        "grid.min(), grid.max()"
      ],
      "execution_count": 0,
      "outputs": [
        {
          "output_type": "execute_result",
          "data": {
            "text/plain": [
              "(tensor(-1.4142), tensor(1.4142))"
            ]
          },
          "metadata": {
            "tags": []
          },
          "execution_count": 29
        }
      ]
    },
    {
      "metadata": {
        "id": "uH9vEv4bvmIh",
        "colab_type": "code",
        "outputId": "1c4cade2-b3cb-478c-a323-22c2709d7cb4",
        "colab": {
          "base_uri": "https://localhost:8080/",
          "height": 452
        }
      },
      "cell_type": "code",
      "source": [
        "transformed = F.grid_sample(org_tensor, grid)[0, 0]\n",
        "plt.imshow(transformed, cmap=\"gray\")"
      ],
      "execution_count": 0,
      "outputs": [
        {
          "output_type": "execute_result",
          "data": {
            "text/plain": [
              "<matplotlib.image.AxesImage at 0x7f2ca31c6518>"
            ]
          },
          "metadata": {
            "tags": []
          },
          "execution_count": 30
        },
        {
          "output_type": "display_data",
          "data": {
            "image/png": "[encoded data removed]",
            "text/plain": [
              "<matplotlib.figure.Figure at 0x7f2cc163dfd0>"
            ]
          },
          "metadata": {
            "tags": []
          }
        }
      ]
    },
    {
      "metadata": {
        "id": "0TK-Jtomwfao",
        "colab_type": "code",
        "colab": {}
      },
      "cell_type": "code",
      "source": [
        ""
      ],
      "execution_count": 0,
      "outputs": []
    }
  ]
}