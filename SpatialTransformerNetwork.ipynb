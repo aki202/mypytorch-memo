{
  "nbformat": 4,
  "nbformat_minor": 0,
  "metadata": {
    "colab": {
      "name": "SpatialTransformerNetwork.ipynb",
      "version": "0.3.2",
      "provenance": [],
      "collapsed_sections": [],
      "toc_visible": true,
      "include_colab_link": true
    },
    "kernelspec": {
      "name": "python3",
      "display_name": "Python 3"
    },
    "accelerator": "GPU"
  },
  "cells": [
    {
      "cell_type": "markdown",
      "metadata": {
        "id": "view-in-github",
        "colab_type": "text"
      },
      "source": [
        "<a href=\"https://colab.research.google.com/github/takoroy/mypytorch-memo/blob/master/SpatialTransformerNetwork.ipynb\" target=\"_parent\"><img src=\"https://colab.research.google.com/assets/colab-badge.svg\" alt=\"Open In Colab\"/></a>"
      ]
    },
    {
      "metadata": {
        "id": "usZS1Ku4UUrO",
        "colab_type": "text"
      },
      "cell_type": "markdown",
      "source": [
        "# [SPATIAL TRANSFORMER NETWORKS TUTORIAL](https://pytorch.org/tutorials/intermediate/spatial_transformer_tutorial.html) のメモ"
      ]
    },
    {
      "metadata": {
        "id": "X8QwU3DBbmBi",
        "colab_type": "text"
      },
      "cell_type": "markdown",
      "source": [
        "## 環境のセットアップ"
      ]
    },
    {
      "metadata": {
        "id": "g60prYRSTX6p",
        "colab_type": "code",
        "outputId": "e6270db4-bc50-4d3a-ef44-1f84edb2a198",
        "colab": {
          "base_uri": "https://localhost:8080/",
          "height": 326
        }
      },
      "cell_type": "code",
      "source": [
        "# PyTorchのインストール\n",
        "! pip install torch torchvision"
      ],
      "execution_count": 1,
      "outputs": [
        {
          "output_type": "stream",
          "text": [
            "Collecting torch\n",
            "\u001b[?25l  Downloading https://files.pythonhosted.org/packages/7e/60/66415660aa46b23b5e1b72bc762e816736ce8d7260213e22365af51e8f9c/torch-1.0.0-cp36-cp36m-manylinux1_x86_64.whl (591.8MB)\n",
            "\u001b[K    100% |████████████████████████████████| 591.8MB 29kB/s \n",
            "tcmalloc: large alloc 1073750016 bytes == 0x619f8000 @  0x7f20d815f2a4 0x591a07 0x5b5d56 0x502e9a 0x506859 0x502209 0x502f3d 0x506859 0x504c28 0x502540 0x502f3d 0x506859 0x504c28 0x502540 0x502f3d 0x506859 0x504c28 0x502540 0x502f3d 0x507641 0x502209 0x502f3d 0x506859 0x504c28 0x502540 0x502f3d 0x507641 0x504c28 0x502540 0x502f3d 0x507641\n",
            "\u001b[?25hCollecting torchvision\n",
            "\u001b[?25l  Downloading https://files.pythonhosted.org/packages/ca/0d/f00b2885711e08bd71242ebe7b96561e6f6d01fdb4b9dcf4d37e2e13c5e1/torchvision-0.2.1-py2.py3-none-any.whl (54kB)\n",
            "\u001b[K    100% |████████████████████████████████| 61kB 22.9MB/s \n",
            "\u001b[?25hRequirement already satisfied: numpy in /usr/local/lib/python3.6/dist-packages (from torchvision) (1.14.6)\n",
            "Requirement already satisfied: six in /usr/local/lib/python3.6/dist-packages (from torchvision) (1.11.0)\n",
            "Collecting pillow>=4.1.1 (from torchvision)\n",
            "\u001b[?25l  Downloading https://files.pythonhosted.org/packages/85/5e/e91792f198bbc5a0d7d3055ad552bc4062942d27eaf75c3e2783cf64eae5/Pillow-5.4.1-cp36-cp36m-manylinux1_x86_64.whl (2.0MB)\n",
            "\u001b[K    100% |████████████████████████████████| 2.0MB 5.8MB/s \n",
            "\u001b[?25hInstalling collected packages: torch, pillow, torchvision\n",
            "  Found existing installation: Pillow 4.0.0\n",
            "    Uninstalling Pillow-4.0.0:\n",
            "      Successfully uninstalled Pillow-4.0.0\n",
            "Successfully installed pillow-5.4.1 torch-1.0.0 torchvision-0.2.1\n"
          ],
          "name": "stdout"
        }
      ]
    },
    {
      "metadata": {
        "id": "xQue9syITyey",
        "colab_type": "code",
        "outputId": "880191ec-4aae-437e-a71b-741b4aad1088",
        "colab": {
          "base_uri": "https://localhost:8080/",
          "height": 34
        }
      },
      "cell_type": "code",
      "source": [
        "import torch\n",
        "torch.__version__"
      ],
      "execution_count": 2,
      "outputs": [
        {
          "output_type": "execute_result",
          "data": {
            "text/plain": [
              "'1.0.0'"
            ]
          },
          "metadata": {
            "tags": []
          },
          "execution_count": 2
        }
      ]
    },
    {
      "metadata": {
        "id": "7BdeHukHcPgx",
        "colab_type": "text"
      },
      "cell_type": "markdown",
      "source": [
        "## パッケージのimport、cudaの利用"
      ]
    },
    {
      "metadata": {
        "id": "HnX1XGEjUKrE",
        "colab_type": "code",
        "colab": {}
      },
      "cell_type": "code",
      "source": [
        "from __future__ import print_function\n",
        "import torch\n",
        "import torch.nn as nn\n",
        "import torch.nn.functional as F\n",
        "import torch.optim as optim\n",
        "import torchvision\n",
        "from torchvision import datasets, transforms\n",
        "import matplotlib.pyplot as plt\n",
        "import numpy as np\n",
        "\n",
        "plt.style.use('default')  # colab上では、matplotlibに独自のスタイルが適用されていますが、見にくいので通常のmatplotlibのスタイルに戻しています。"
      ],
      "execution_count": 0,
      "outputs": []
    },
    {
      "metadata": {
        "id": "9JvYLuP3bjLv",
        "colab_type": "code",
        "colab": {}
      },
      "cell_type": "code",
      "source": [
        "device = torch.device(\"cuda\" if torch.cuda.is_available() else \"cpu\")"
      ],
      "execution_count": 0,
      "outputs": []
    },
    {
      "metadata": {
        "id": "9gznd39iUwrS",
        "colab_type": "code",
        "outputId": "6a977fe5-78bc-48c0-c5eb-d89f5d0082d8",
        "colab": {
          "base_uri": "https://localhost:8080/",
          "height": 34
        }
      },
      "cell_type": "code",
      "source": [
        "# ちゃんと\"cuda\"になっていることを確認しましょう。\"cuda\"になっていないときは、Colaboratoryのランタイムを選択し直しましょう。\n",
        "device"
      ],
      "execution_count": 5,
      "outputs": [
        {
          "output_type": "execute_result",
          "data": {
            "text/plain": [
              "device(type='cuda')"
            ]
          },
          "metadata": {
            "tags": []
          },
          "execution_count": 5
        }
      ]
    },
    {
      "metadata": {
        "id": "mt4IYG-OcXyR",
        "colab_type": "text"
      },
      "cell_type": "markdown",
      "source": [
        "## データセットの作成\n",
        "\n",
        "MNISTをそのままでも良いのですが、より難しい[こちら](https://github.com/oarriaga/STN.keras)のデータを使わせていただきましょう。"
      ]
    },
    {
      "metadata": {
        "id": "EiJH3Mr3nk5n",
        "colab_type": "code",
        "outputId": "6dd20682-8ce8-4609-bff0-959420626395",
        "colab": {
          "base_uri": "https://localhost:8080/",
          "height": 309
        }
      },
      "cell_type": "code",
      "source": [
        "! wget https://github.com/oarriaga/STN.keras/raw/master/datasets/mnist_cluttered_60x60_6distortions.npz -O mnist.npz"
      ],
      "execution_count": 6,
      "outputs": [
        {
          "output_type": "stream",
          "text": [
            "--2019-01-08 12:06:23--  https://github.com/oarriaga/STN.keras/raw/master/datasets/mnist_cluttered_60x60_6distortions.npz\n",
            "Resolving github.com (github.com)... 192.30.253.113, 192.30.253.112\n",
            "Connecting to github.com (github.com)|192.30.253.113|:443... connected.\n",
            "HTTP request sent, awaiting response... 302 Found\n",
            "Location: https://raw.githubusercontent.com/oarriaga/STN.keras/master/datasets/mnist_cluttered_60x60_6distortions.npz [following]\n",
            "--2019-01-08 12:06:24--  https://raw.githubusercontent.com/oarriaga/STN.keras/master/datasets/mnist_cluttered_60x60_6distortions.npz\n",
            "Resolving raw.githubusercontent.com (raw.githubusercontent.com)... 151.101.0.133, 151.101.64.133, 151.101.128.133, ...\n",
            "Connecting to raw.githubusercontent.com (raw.githubusercontent.com)|151.101.0.133|:443... connected.\n",
            "HTTP request sent, awaiting response... 200 OK\n",
            "Length: 43046126 (41M) [application/octet-stream]\n",
            "Saving to: ‘mnist.npz’\n",
            "\n",
            "mnist.npz           100%[===================>]  41.05M   130MB/s    in 0.3s    \n",
            "\n",
            "2019-01-08 12:06:27 (130 MB/s) - ‘mnist.npz’ saved [43046126/43046126]\n",
            "\n"
          ],
          "name": "stdout"
        }
      ]
    },
    {
      "metadata": {
        "id": "AeRx2_hOnxoh",
        "colab_type": "code",
        "colab": {}
      },
      "cell_type": "code",
      "source": [
        "data = np.load('mnist.npz')"
      ],
      "execution_count": 0,
      "outputs": []
    },
    {
      "metadata": {
        "id": "hVPEzcNorYWc",
        "colab_type": "code",
        "colab": {}
      },
      "cell_type": "code",
      "source": [
        "from torch.utils.data import Dataset, DataLoader\n",
        "\n",
        "class MNISTDataset(Dataset):\n",
        "    def __init__(self, x, y):\n",
        "        self.x = x\n",
        "        self.y = y\n",
        "        \n",
        "    def __len__(self):\n",
        "        return len(self.y)\n",
        "    \n",
        "    def __getitem__(self, idx):\n",
        "        return self.x[idx].reshape(1, 60, 60), np.argmax(self.y[idx])\n",
        "    "
      ],
      "execution_count": 0,
      "outputs": []
    },
    {
      "metadata": {
        "id": "69X5bz14rzNI",
        "colab_type": "code",
        "colab": {}
      },
      "cell_type": "code",
      "source": [
        "train_dataset = MNISTDataset(data['x_train'], data['y_train'])\n",
        "test_dataset = MNISTDataset(data['x_test'], data['y_test'])"
      ],
      "execution_count": 0,
      "outputs": []
    },
    {
      "metadata": {
        "id": "O5FjH-gE6Hhb",
        "colab_type": "code",
        "outputId": "9a07b61a-7836-4fbc-b91d-476cab020415",
        "colab": {
          "base_uri": "https://localhost:8080/",
          "height": 469
        }
      },
      "cell_type": "code",
      "source": [
        "# こんな感じのきたない画像です。\n",
        "plt.title(train_dataset[11][1])\n",
        "plt.imshow(train_dataset[11][0].transpose(1, 2, 0)[:,:,0], cmap=\"gray\")"
      ],
      "execution_count": 10,
      "outputs": [
        {
          "output_type": "execute_result",
          "data": {
            "text/plain": [
              "<matplotlib.image.AxesImage at 0x7fcbac52e4a8>"
            ]
          },
          "metadata": {
            "tags": []
          },
          "execution_count": 10
        },
        {
          "output_type": "display_data",
          "data": {
            "image/png": "[encoded data removed]",
            "text/plain": [
              "<matplotlib.figure.Figure at 0x7fcbacdc3a20>"
            ]
          },
          "metadata": {
            "tags": []
          }
        }
      ]
    },
    {
      "metadata": {
        "id": "rx1Uiz_t_4AZ",
        "colab_type": "code",
        "outputId": "4f894d6d-cb24-4e52-f6eb-ca299b137ac9",
        "colab": {
          "base_uri": "https://localhost:8080/",
          "height": 34
        }
      },
      "cell_type": "code",
      "source": [
        "# (0, 1)に正規化されています\n",
        "test_dataset[0][0].min(), test_dataset[0][0].max()"
      ],
      "execution_count": 11,
      "outputs": [
        {
          "output_type": "execute_result",
          "data": {
            "text/plain": [
              "(0.0, 1.0)"
            ]
          },
          "metadata": {
            "tags": []
          },
          "execution_count": 11
        }
      ]
    },
    {
      "metadata": {
        "id": "Mo_tIs-kUTpb",
        "colab_type": "code",
        "colab": {}
      },
      "cell_type": "code",
      "source": [
        "# Training dataloader\n",
        "train_loader = torch.utils.data.DataLoader(train_dataset, batch_size=64, shuffle=True, num_workers=4)\n",
        "# Test dataloader\n",
        "test_loader = torch.utils.data.DataLoader(test_dataset, batch_size=64, shuffle=True, num_workers=4)"
      ],
      "execution_count": 0,
      "outputs": []
    },
    {
      "metadata": {
        "id": "NogxU0XrctJM",
        "colab_type": "text"
      },
      "cell_type": "markdown",
      "source": [
        "## ネットワークの定義"
      ]
    },
    {
      "metadata": {
        "id": "knSQjVyYUycu",
        "colab_type": "code",
        "colab": {}
      },
      "cell_type": "code",
      "source": [
        "class Net(nn.Module):\n",
        "    def __init__(self):\n",
        "        super(Net, self).__init__()\n",
        "        \n",
        "        self.classifier = nn.Sequential(\n",
        "            nn.AvgPool2d(2, stride=2),                   # [1, 60, 60] -> [1, 30, 30]\n",
        "            nn.Conv2d(1, 10, kernel_size=5),        # [1, 30, 30] -> [10, 26, 26]\n",
        "            nn.ReLU(True),\n",
        "            nn.Conv2d(10, 20, kernel_size=3),      # [10, 26, 26] -> [20, 24, 24]\n",
        "            nn.ReLU(True),\n",
        "            nn.MaxPool2d(2, stride=2),                    # [20, 24, 24] -> [20, 12, 12]\n",
        "            nn.Conv2d(20, 20, kernel_size=3),      # [20, 12, 12] -> [20, 10, 10]\n",
        "            nn.Dropout2d(),\n",
        "            nn.MaxPool2d(2, stride=2)                     # [20, 10, 10] -> [20, 5, 5]\n",
        "        )\n",
        "        \n",
        "        self.fc_clf = nn.Sequential(\n",
        "            nn.Linear(20*5*5, 50),\n",
        "            nn.ReLU(True),\n",
        "            nn.Dropout(),\n",
        "            nn.Linear(50, 10)\n",
        "        )\n",
        "\n",
        "        # Spatial transformer localization-network\n",
        "        self.localization = nn.Sequential(\n",
        "            nn.Conv2d(1, 8, kernel_size=5),       # [1, 60, 60] -> [8, 56, 56]\n",
        "            nn.MaxPool2d(2, stride=2),                # [8, 56, 56] -> [8, 28, 28]\n",
        "            nn.ReLU(True),\n",
        "            nn.Conv2d(8, 10, kernel_size=5),     # [8, 28, 28] -> [10, 24, 24]\n",
        "            nn.MaxPool2d(2, stride=2),                # [10, 24, 24] -> [10, 12, 12]\n",
        "            nn.ReLU(True),\n",
        "            nn.Conv2d(10, 10, kernel_size=3),   # [10, 12, 12] -> [10, 10, 10]\n",
        "            nn.MaxPool2d(2, stride=2),                 # [10, 10, 10] -> [10, 5, 5]\n",
        "            nn.ReLU(True)\n",
        "        )\n",
        "\n",
        "        # Regressor for the 3 * 2 affine matrix\n",
        "        self.fc_loc = nn.Sequential(\n",
        "            nn.Linear(10 * 5 * 5, 32),\n",
        "            nn.ReLU(True),\n",
        "            nn.Linear(32, 3 * 2)\n",
        "        )\n",
        "\n",
        "        # Initialize the weights/bias with identity transformation\n",
        "        # この初期化によって、未学習時は恒等変換を行うようにする。\n",
        "        self.fc_loc[2].weight.data.zero_()\n",
        "        self.fc_loc[2].bias.data.copy_(torch.tensor([1, 0, 0, 0, 1, 0], dtype=torch.float))\n",
        "\n",
        "    # Spatial transformer network forward function\n",
        "    def stn(self, x):\n",
        "        xs = self.localization(x)\n",
        "        xs = xs.view(-1, 10 * 5 * 5)\n",
        "        theta = self.fc_loc(xs)\n",
        "        theta = theta.view(-1, 2, 3)\n",
        "\n",
        "        grid = F.affine_grid(theta, x.size())\n",
        "        x = F.grid_sample(x, grid)\n",
        "\n",
        "        return x\n",
        "\n",
        "    def forward(self, x):\n",
        "        # transform the input\n",
        "        x = self.stn(x)\n",
        "        \n",
        "        # Perform the usual forward pass\n",
        "        x = self.classifier(x)\n",
        "        x = x.view(-1, 20 * 5 * 5)\n",
        "        x = self.fc_clf(x)\n",
        "        return F.log_softmax(x, dim=1)\n",
        "\n",
        "\n",
        "model = Net().to(device)"
      ],
      "execution_count": 0,
      "outputs": []
    },
    {
      "metadata": {
        "id": "LkpgBSA3cy8a",
        "colab_type": "text"
      },
      "cell_type": "markdown",
      "source": [
        "## オプティマイザと学習・評価関数の作成"
      ]
    },
    {
      "metadata": {
        "id": "5LJUL7d7U4fp",
        "colab_type": "code",
        "colab": {}
      },
      "cell_type": "code",
      "source": [
        "optimizer = optim.SGD(model.parameters(), momentum=0.9, lr=0.001)\n",
        "\n",
        "\n",
        "def train(epoch):\n",
        "    model.train()\n",
        "    for batch_idx, (data, target) in enumerate(train_loader):\n",
        "        data, target = data.to(device), target.to(device)\n",
        "\n",
        "        optimizer.zero_grad()\n",
        "        output = model(data)\n",
        "        loss = F.nll_loss(output, target)\n",
        "        loss.backward()\n",
        "        optimizer.step()\n",
        "        if batch_idx % 500 == 0:\n",
        "            print('Train Epoch: {} [{}/{} ({:.0f}%)]\\tLoss: {:.6f}'.format(\n",
        "                epoch, batch_idx * len(data), len(train_loader.dataset),\n",
        "                100. * batch_idx / len(train_loader), loss.item()))\n",
        "#\n",
        "# A simple test procedure to measure STN the performances on MNIST.\n",
        "#\n",
        "\n",
        "\n",
        "def test():\n",
        "    with torch.no_grad():\n",
        "        model.eval()\n",
        "        test_loss = 0\n",
        "        correct = 0\n",
        "        for data, target in test_loader:\n",
        "            data, target = data.to(device), target.to(device)\n",
        "            output = model(data)\n",
        "\n",
        "            # sum up batch loss\n",
        "            test_loss += F.nll_loss(output, target,  reduction='sum').item()\n",
        "            # get the index of the max log-probability\n",
        "            pred = output.max(1, keepdim=True)[1]\n",
        "            correct += pred.eq(target.view_as(pred)).sum().item()\n",
        "\n",
        "        test_loss /= len(test_loader.dataset)\n",
        "        print('\\nTest set: Average loss: {:.4f}, Accuracy: {}/{} ({:.0f}%)\\n'\n",
        "              .format(test_loss, correct, len(test_loader.dataset),\n",
        "                      100. * correct / len(test_loader.dataset)))"
      ],
      "execution_count": 0,
      "outputs": []
    },
    {
      "metadata": {
        "id": "JEr9tbSDc5nA",
        "colab_type": "text"
      },
      "cell_type": "markdown",
      "source": [
        "## 可視化のための関数の作成"
      ]
    },
    {
      "metadata": {
        "id": "r_s_olXPVUII",
        "colab_type": "code",
        "colab": {}
      },
      "cell_type": "code",
      "source": [
        "def convert_image_np(inp):\n",
        "    \"\"\"Convert a Tensor to numpy image.\"\"\"\n",
        "    inp = inp.numpy().transpose((1, 2, 0))\n",
        "    return inp\n",
        "\n",
        "# We want to visualize the output of the spatial transformers layer\n",
        "# after the training, we visualize a batch of input images and\n",
        "# the corresponding transformed batch using STN.\n",
        "\n",
        "\n",
        "def visualize_stn():\n",
        "  \n",
        "    plt.figure(figsize=(12, 8), dpi=300)\n",
        "  \n",
        "    with torch.no_grad():\n",
        "        # Get a batch of training data\n",
        "        data = next(iter(test_loader))[0].to(device)\n",
        "\n",
        "        input_tensor = data.cpu()\n",
        "        transformed_input_tensor = model.stn(data).cpu()\n",
        "\n",
        "        in_grid = convert_image_np(\n",
        "            torchvision.utils.make_grid(input_tensor))\n",
        "\n",
        "        out_grid = convert_image_np(\n",
        "            torchvision.utils.make_grid(transformed_input_tensor))\n",
        "\n",
        "        # Plot the results side-by-side\n",
        "        f, axarr = plt.subplots(1, 2)\n",
        "        axarr[0].imshow(in_grid)\n",
        "        axarr[0].set_title('Dataset Images')\n",
        "\n",
        "        axarr[1].imshow(out_grid)\n",
        "        axarr[1].set_title('Transformed Images')"
      ],
      "execution_count": 0,
      "outputs": []
    },
    {
      "metadata": {
        "id": "nTZUbxujfbhI",
        "colab_type": "text"
      },
      "cell_type": "markdown",
      "source": [
        "## 学習と評価"
      ]
    },
    {
      "metadata": {
        "id": "CHlBkCm8VZIw",
        "colab_type": "code",
        "outputId": "ea04a8f5-079a-458f-a856-8c80e65aec59",
        "colab": {
          "base_uri": "https://localhost:8080/",
          "height": 4267
        }
      },
      "cell_type": "code",
      "source": [
        "for epoch in range(1, 50 + 1):\n",
        "    train(epoch)\n",
        "    test()"
      ],
      "execution_count": 19,
      "outputs": [
        {
          "output_type": "stream",
          "text": [
            "Train Epoch: 1 [0/50000 (0%)]\tLoss: 2.294207\n",
            "Train Epoch: 1 [32000/50000 (64%)]\tLoss: 2.298687\n",
            "\n",
            "Test set: Average loss: 2.2995, Accuracy: 1119/10000 (11%)\n",
            "\n",
            "Train Epoch: 2 [0/50000 (0%)]\tLoss: 2.298506\n",
            "Train Epoch: 2 [32000/50000 (64%)]\tLoss: 2.303563\n",
            "\n",
            "Test set: Average loss: 2.2985, Accuracy: 1119/10000 (11%)\n",
            "\n",
            "Train Epoch: 3 [0/50000 (0%)]\tLoss: 2.297125\n",
            "Train Epoch: 3 [32000/50000 (64%)]\tLoss: 2.298995\n",
            "\n",
            "Test set: Average loss: 2.2959, Accuracy: 1173/10000 (12%)\n",
            "\n",
            "Train Epoch: 4 [0/50000 (0%)]\tLoss: 2.298651\n",
            "Train Epoch: 4 [32000/50000 (64%)]\tLoss: 2.298210\n",
            "\n",
            "Test set: Average loss: 2.2885, Accuracy: 1272/10000 (13%)\n",
            "\n",
            "Train Epoch: 5 [0/50000 (0%)]\tLoss: 2.275639\n",
            "Train Epoch: 5 [32000/50000 (64%)]\tLoss: 2.263967\n",
            "\n",
            "Test set: Average loss: 2.2548, Accuracy: 1695/10000 (17%)\n",
            "\n",
            "Train Epoch: 6 [0/50000 (0%)]\tLoss: 2.237725\n",
            "Train Epoch: 6 [32000/50000 (64%)]\tLoss: 2.288352\n",
            "\n",
            "Test set: Average loss: 2.1850, Accuracy: 1905/10000 (19%)\n",
            "\n",
            "Train Epoch: 7 [0/50000 (0%)]\tLoss: 2.249822\n",
            "Train Epoch: 7 [32000/50000 (64%)]\tLoss: 2.158086\n",
            "\n",
            "Test set: Average loss: 2.1213, Accuracy: 2096/10000 (21%)\n",
            "\n",
            "Train Epoch: 8 [0/50000 (0%)]\tLoss: 2.159504\n",
            "Train Epoch: 8 [32000/50000 (64%)]\tLoss: 2.167770\n",
            "\n",
            "Test set: Average loss: 2.0554, Accuracy: 2216/10000 (22%)\n",
            "\n",
            "Train Epoch: 9 [0/50000 (0%)]\tLoss: 2.097401\n",
            "Train Epoch: 9 [32000/50000 (64%)]\tLoss: 2.021522\n",
            "\n",
            "Test set: Average loss: 1.9763, Accuracy: 2389/10000 (24%)\n",
            "\n",
            "Train Epoch: 10 [0/50000 (0%)]\tLoss: 2.143815\n",
            "Train Epoch: 10 [32000/50000 (64%)]\tLoss: 2.025811\n",
            "\n",
            "Test set: Average loss: 1.8456, Accuracy: 3139/10000 (31%)\n",
            "\n",
            "Train Epoch: 11 [0/50000 (0%)]\tLoss: 1.925586\n",
            "Train Epoch: 11 [32000/50000 (64%)]\tLoss: 1.784001\n",
            "\n",
            "Test set: Average loss: 1.4733, Accuracy: 5180/10000 (52%)\n",
            "\n",
            "Train Epoch: 12 [0/50000 (0%)]\tLoss: 1.626409\n",
            "Train Epoch: 12 [32000/50000 (64%)]\tLoss: 1.309633\n",
            "\n",
            "Test set: Average loss: 1.1067, Accuracy: 6458/10000 (65%)\n",
            "\n",
            "Train Epoch: 13 [0/50000 (0%)]\tLoss: 1.172174\n",
            "Train Epoch: 13 [32000/50000 (64%)]\tLoss: 0.910523\n",
            "\n",
            "Test set: Average loss: 0.7970, Accuracy: 7634/10000 (76%)\n",
            "\n",
            "Train Epoch: 14 [0/50000 (0%)]\tLoss: 0.890355\n",
            "Train Epoch: 14 [32000/50000 (64%)]\tLoss: 0.796554\n",
            "\n",
            "Test set: Average loss: 0.5692, Accuracy: 8247/10000 (82%)\n",
            "\n",
            "Train Epoch: 15 [0/50000 (0%)]\tLoss: 0.917156\n",
            "Train Epoch: 15 [32000/50000 (64%)]\tLoss: 0.820406\n",
            "\n",
            "Test set: Average loss: 0.5536, Accuracy: 8331/10000 (83%)\n",
            "\n",
            "Train Epoch: 16 [0/50000 (0%)]\tLoss: 0.639240\n",
            "Train Epoch: 16 [32000/50000 (64%)]\tLoss: 0.397758\n",
            "\n",
            "Test set: Average loss: 0.4267, Accuracy: 8724/10000 (87%)\n",
            "\n",
            "Train Epoch: 17 [0/50000 (0%)]\tLoss: 0.542288\n",
            "Train Epoch: 17 [32000/50000 (64%)]\tLoss: 0.566082\n",
            "\n",
            "Test set: Average loss: 0.4379, Accuracy: 8640/10000 (86%)\n",
            "\n",
            "Train Epoch: 18 [0/50000 (0%)]\tLoss: 1.083346\n",
            "Train Epoch: 18 [32000/50000 (64%)]\tLoss: 0.993752\n",
            "\n",
            "Test set: Average loss: 0.5347, Accuracy: 8299/10000 (83%)\n",
            "\n",
            "Train Epoch: 19 [0/50000 (0%)]\tLoss: 0.598530\n",
            "Train Epoch: 19 [32000/50000 (64%)]\tLoss: 0.664331\n",
            "\n",
            "Test set: Average loss: 0.3885, Accuracy: 8764/10000 (88%)\n",
            "\n",
            "Train Epoch: 20 [0/50000 (0%)]\tLoss: 0.411356\n",
            "Train Epoch: 20 [32000/50000 (64%)]\tLoss: 0.306301\n",
            "\n",
            "Test set: Average loss: 0.3281, Accuracy: 9003/10000 (90%)\n",
            "\n",
            "Train Epoch: 21 [0/50000 (0%)]\tLoss: 0.430801\n",
            "Train Epoch: 21 [32000/50000 (64%)]\tLoss: 0.423789\n",
            "\n",
            "Test set: Average loss: 0.3082, Accuracy: 9038/10000 (90%)\n",
            "\n",
            "Train Epoch: 22 [0/50000 (0%)]\tLoss: 0.386057\n",
            "Train Epoch: 22 [32000/50000 (64%)]\tLoss: 0.424361\n",
            "\n",
            "Test set: Average loss: 0.3155, Accuracy: 9061/10000 (91%)\n",
            "\n",
            "Train Epoch: 23 [0/50000 (0%)]\tLoss: 0.675326\n",
            "Train Epoch: 23 [32000/50000 (64%)]\tLoss: 0.554765\n",
            "\n",
            "Test set: Average loss: 0.3294, Accuracy: 8933/10000 (89%)\n",
            "\n",
            "Train Epoch: 24 [0/50000 (0%)]\tLoss: 0.486322\n",
            "Train Epoch: 24 [32000/50000 (64%)]\tLoss: 0.574122\n",
            "\n",
            "Test set: Average loss: 0.2441, Accuracy: 9211/10000 (92%)\n",
            "\n",
            "Train Epoch: 25 [0/50000 (0%)]\tLoss: 0.458490\n",
            "Train Epoch: 25 [32000/50000 (64%)]\tLoss: 0.477509\n",
            "\n",
            "Test set: Average loss: 0.2580, Accuracy: 9185/10000 (92%)\n",
            "\n",
            "Train Epoch: 26 [0/50000 (0%)]\tLoss: 0.309512\n",
            "Train Epoch: 26 [32000/50000 (64%)]\tLoss: 0.460327\n",
            "\n",
            "Test set: Average loss: 0.2279, Accuracy: 9301/10000 (93%)\n",
            "\n",
            "Train Epoch: 27 [0/50000 (0%)]\tLoss: 0.240923\n",
            "Train Epoch: 27 [32000/50000 (64%)]\tLoss: 0.489310\n",
            "\n",
            "Test set: Average loss: 0.2495, Accuracy: 9256/10000 (93%)\n",
            "\n",
            "Train Epoch: 28 [0/50000 (0%)]\tLoss: 0.502225\n",
            "Train Epoch: 28 [32000/50000 (64%)]\tLoss: 0.392738\n",
            "\n",
            "Test set: Average loss: 0.3575, Accuracy: 8868/10000 (89%)\n",
            "\n",
            "Train Epoch: 29 [0/50000 (0%)]\tLoss: 0.571710\n",
            "Train Epoch: 29 [32000/50000 (64%)]\tLoss: 0.252632\n",
            "\n",
            "Test set: Average loss: 0.2693, Accuracy: 9178/10000 (92%)\n",
            "\n",
            "Train Epoch: 30 [0/50000 (0%)]\tLoss: 0.526624\n",
            "Train Epoch: 30 [32000/50000 (64%)]\tLoss: 0.493709\n",
            "\n",
            "Test set: Average loss: 0.2200, Accuracy: 9303/10000 (93%)\n",
            "\n",
            "Train Epoch: 31 [0/50000 (0%)]\tLoss: 0.422541\n",
            "Train Epoch: 31 [32000/50000 (64%)]\tLoss: 0.402679\n",
            "\n",
            "Test set: Average loss: 0.2321, Accuracy: 9302/10000 (93%)\n",
            "\n",
            "Train Epoch: 32 [0/50000 (0%)]\tLoss: 0.288256\n",
            "Train Epoch: 32 [32000/50000 (64%)]\tLoss: 0.278197\n",
            "\n",
            "Test set: Average loss: 0.2340, Accuracy: 9272/10000 (93%)\n",
            "\n",
            "Train Epoch: 33 [0/50000 (0%)]\tLoss: 0.523894\n",
            "Train Epoch: 33 [32000/50000 (64%)]\tLoss: 0.249114\n",
            "\n",
            "Test set: Average loss: 0.2256, Accuracy: 9314/10000 (93%)\n",
            "\n",
            "Train Epoch: 34 [0/50000 (0%)]\tLoss: 0.355634\n",
            "Train Epoch: 34 [32000/50000 (64%)]\tLoss: 0.472812\n",
            "\n",
            "Test set: Average loss: 0.2201, Accuracy: 9340/10000 (93%)\n",
            "\n",
            "Train Epoch: 35 [0/50000 (0%)]\tLoss: 0.363102\n",
            "Train Epoch: 35 [32000/50000 (64%)]\tLoss: 0.583169\n",
            "\n",
            "Test set: Average loss: 0.2430, Accuracy: 9246/10000 (92%)\n",
            "\n",
            "Train Epoch: 36 [0/50000 (0%)]\tLoss: 0.166805\n",
            "Train Epoch: 36 [32000/50000 (64%)]\tLoss: 0.427491\n",
            "\n",
            "Test set: Average loss: 0.2045, Accuracy: 9355/10000 (94%)\n",
            "\n",
            "Train Epoch: 37 [0/50000 (0%)]\tLoss: 0.309309\n",
            "Train Epoch: 37 [32000/50000 (64%)]\tLoss: 0.318907\n",
            "\n",
            "Test set: Average loss: 0.1895, Accuracy: 9413/10000 (94%)\n",
            "\n",
            "Train Epoch: 38 [0/50000 (0%)]\tLoss: 0.266741\n",
            "Train Epoch: 38 [32000/50000 (64%)]\tLoss: 0.338664\n",
            "\n",
            "Test set: Average loss: 0.2124, Accuracy: 9348/10000 (93%)\n",
            "\n",
            "Train Epoch: 39 [0/50000 (0%)]\tLoss: 0.234395\n",
            "Train Epoch: 39 [32000/50000 (64%)]\tLoss: 0.221555\n",
            "\n",
            "Test set: Average loss: 0.1964, Accuracy: 9408/10000 (94%)\n",
            "\n",
            "Train Epoch: 40 [0/50000 (0%)]\tLoss: 0.420945\n",
            "Train Epoch: 40 [32000/50000 (64%)]\tLoss: 0.392128\n",
            "\n",
            "Test set: Average loss: 0.2218, Accuracy: 9301/10000 (93%)\n",
            "\n",
            "Train Epoch: 41 [0/50000 (0%)]\tLoss: 0.207110\n",
            "Train Epoch: 41 [32000/50000 (64%)]\tLoss: 0.321629\n",
            "\n",
            "Test set: Average loss: 0.2491, Accuracy: 9215/10000 (92%)\n",
            "\n",
            "Train Epoch: 42 [0/50000 (0%)]\tLoss: 0.373440\n",
            "Train Epoch: 42 [32000/50000 (64%)]\tLoss: 0.324954\n",
            "\n",
            "Test set: Average loss: 0.2073, Accuracy: 9365/10000 (94%)\n",
            "\n",
            "Train Epoch: 43 [0/50000 (0%)]\tLoss: 0.321420\n",
            "Train Epoch: 43 [32000/50000 (64%)]\tLoss: 0.242887\n",
            "\n",
            "Test set: Average loss: 0.2038, Accuracy: 9352/10000 (94%)\n",
            "\n",
            "Train Epoch: 44 [0/50000 (0%)]\tLoss: 0.239695\n",
            "Train Epoch: 44 [32000/50000 (64%)]\tLoss: 0.428315\n",
            "\n",
            "Test set: Average loss: 0.2226, Accuracy: 9329/10000 (93%)\n",
            "\n",
            "Train Epoch: 45 [0/50000 (0%)]\tLoss: 0.634987\n",
            "Train Epoch: 45 [32000/50000 (64%)]\tLoss: 0.210499\n",
            "\n",
            "Test set: Average loss: 0.1921, Accuracy: 9420/10000 (94%)\n",
            "\n",
            "Train Epoch: 46 [0/50000 (0%)]\tLoss: 0.270843\n",
            "Train Epoch: 46 [32000/50000 (64%)]\tLoss: 0.145378\n",
            "\n",
            "Test set: Average loss: 0.1877, Accuracy: 9426/10000 (94%)\n",
            "\n",
            "Train Epoch: 47 [0/50000 (0%)]\tLoss: 0.239114\n",
            "Train Epoch: 47 [32000/50000 (64%)]\tLoss: 0.302281\n",
            "\n",
            "Test set: Average loss: 0.1841, Accuracy: 9406/10000 (94%)\n",
            "\n",
            "Train Epoch: 48 [0/50000 (0%)]\tLoss: 0.200253\n",
            "Train Epoch: 48 [32000/50000 (64%)]\tLoss: 0.274572\n",
            "\n",
            "Test set: Average loss: 0.1654, Accuracy: 9493/10000 (95%)\n",
            "\n",
            "Train Epoch: 49 [0/50000 (0%)]\tLoss: 0.094180\n",
            "Train Epoch: 49 [32000/50000 (64%)]\tLoss: 0.142117\n",
            "\n",
            "Test set: Average loss: 0.1807, Accuracy: 9442/10000 (94%)\n",
            "\n",
            "Train Epoch: 50 [0/50000 (0%)]\tLoss: 0.407942\n",
            "Train Epoch: 50 [32000/50000 (64%)]\tLoss: 0.420837\n",
            "\n",
            "Test set: Average loss: 0.1640, Accuracy: 9490/10000 (95%)\n",
            "\n"
          ],
          "name": "stdout"
        }
      ]
    },
    {
      "metadata": {
        "id": "PjpBhGtxfgpr",
        "colab_type": "text"
      },
      "cell_type": "markdown",
      "source": [
        "## アフィン変換結果の可視化"
      ]
    },
    {
      "metadata": {
        "id": "TeOMzlxoVc7O",
        "colab_type": "code",
        "outputId": "1fd45e20-2f86-446e-8a33-c83a0ad388a2",
        "colab": {
          "base_uri": "https://localhost:8080/",
          "height": 325
        }
      },
      "cell_type": "code",
      "source": [
        "# Visualize the STN transformation on some input batch\n",
        "visualize_stn()\n",
        "plt.savefig(\"stn_result.png\")\n",
        "plt.show()"
      ],
      "execution_count": 20,
      "outputs": [
        {
          "output_type": "display_data",
          "data": {
            "text/plain": [
              "<matplotlib.figure.Figure at 0x7fcba9cfb4a8>"
            ]
          },
          "metadata": {
            "tags": []
          }
        },
        {
          "output_type": "display_data",
          "data": {
            "image/png": "[encoded data removed]",
            "text/plain": [
              "<matplotlib.figure.Figure at 0x7fcbac52ea90>"
            ]
          },
          "metadata": {
            "tags": []
          }
        }
      ]
    },
    {
      "metadata": {
        "id": "uPK3fhI05jGr",
        "colab_type": "code",
        "colab": {}
      },
      "cell_type": "code",
      "source": [
        "# 画像のダウンロード\n",
        "from google.colab import files\n",
        "files.download(\"stn_result.png\") "
      ],
      "execution_count": 0,
      "outputs": []
    },
    {
      "metadata": {
        "id": "i3MV-Ifwp9KE",
        "colab_type": "text"
      },
      "cell_type": "markdown",
      "source": [
        "#APPENDIX\n",
        "\n",
        "F.affine_gridの処理結果の可視化"
      ]
    },
    {
      "metadata": {
        "id": "GHslcL8ZqMHc",
        "colab_type": "code",
        "colab": {}
      },
      "cell_type": "code",
      "source": [
        "import matplotlib.pyplot as plt\n",
        "import numpy as np\n",
        "import cv2\n",
        "\n"
      ],
      "execution_count": 0,
      "outputs": []
    },
    {
      "metadata": {
        "id": "5U-onbfAqOTW",
        "colab_type": "code",
        "outputId": "74f4d7d7-b04e-4234-a5db-810d5312ef6c",
        "colab": {
          "base_uri": "https://localhost:8080/",
          "height": 452
        }
      },
      "cell_type": "code",
      "source": [
        "# 元画像\n",
        "org_img = np.zeros((256, 256))\n",
        "org_img[150:200, 50:100] = 1.0\n",
        "plt.imshow(org_img, cmap=\"gray\")\n"
      ],
      "execution_count": 23,
      "outputs": [
        {
          "output_type": "execute_result",
          "data": {
            "text/plain": [
              "<matplotlib.image.AxesImage at 0x7fcba7b24da0>"
            ]
          },
          "metadata": {
            "tags": []
          },
          "execution_count": 23
        },
        {
          "output_type": "display_data",
          "data": {
            "image/png": "[encoded data removed]",
            "text/plain": [
              "<matplotlib.figure.Figure at 0x7fcba7ac9f98>"
            ]
          },
          "metadata": {
            "tags": []
          }
        }
      ]
    },
    {
      "metadata": {
        "id": "5_ZNosq3qnAG",
        "colab_type": "code",
        "colab": {}
      },
      "cell_type": "code",
      "source": [
        "org_tensor = torch.Tensor([[org_img]])"
      ],
      "execution_count": 0,
      "outputs": []
    },
    {
      "metadata": {
        "id": "MRWfozBOuTIT",
        "colab_type": "text"
      },
      "cell_type": "markdown",
      "source": [
        "##恒等変換"
      ]
    },
    {
      "metadata": {
        "id": "QvM3rvuXrtvx",
        "colab_type": "code",
        "colab": {}
      },
      "cell_type": "code",
      "source": [
        "theta = torch.FloatTensor([[[1, 0, 0], [0, 1, 0]]])\n",
        "grid = F.affine_grid(theta, org_tensor.size())"
      ],
      "execution_count": 0,
      "outputs": []
    },
    {
      "metadata": {
        "id": "3uPKfW6qshx7",
        "colab_type": "code",
        "outputId": "b8a7d6f8-1527-47e9-e8f5-5efdbd2c07df",
        "colab": {
          "base_uri": "https://localhost:8080/",
          "height": 34
        }
      },
      "cell_type": "code",
      "source": [
        "grid.min(), grid.max()"
      ],
      "execution_count": 26,
      "outputs": [
        {
          "output_type": "execute_result",
          "data": {
            "text/plain": [
              "(tensor(-1.), tensor(1.))"
            ]
          },
          "metadata": {
            "tags": []
          },
          "execution_count": 26
        }
      ]
    },
    {
      "metadata": {
        "id": "1iCv_3t7rvLr",
        "colab_type": "code",
        "outputId": "b680c914-d4ae-40f0-f417-cf2c9249732d",
        "colab": {
          "base_uri": "https://localhost:8080/",
          "height": 403
        }
      },
      "cell_type": "code",
      "source": [
        "fig, axs = plt.subplots(1, 2)\n",
        "axs[0].imshow(grid[0, :, :, 0])\n",
        "im = axs[1].imshow(grid[0, :, :, 1])\n",
        "\n",
        "fig.subplots_adjust(right=0.8)\n",
        "cbar_ax = fig.add_axes([0.85, 0.15, 0.05, 0.7])\n",
        "fig.colorbar(im, cax=cbar_ax)"
      ],
      "execution_count": 27,
      "outputs": [
        {
          "output_type": "execute_result",
          "data": {
            "text/plain": [
              "<matplotlib.colorbar.Colorbar at 0x7fcba75768d0>"
            ]
          },
          "metadata": {
            "tags": []
          },
          "execution_count": 27
        },
        {
          "output_type": "display_data",
          "data": {
            "image/png": "[encoded data removed]",
            "text/plain": [
              "<matplotlib.figure.Figure at 0x7fcba7af2278>"
            ]
          },
          "metadata": {
            "tags": []
          }
        }
      ]
    },
    {
      "metadata": {
        "id": "vDrNCeKWuh4H",
        "colab_type": "code",
        "outputId": "e4516dd1-63e8-4337-cb6b-b526b9776f54",
        "colab": {
          "base_uri": "https://localhost:8080/",
          "height": 452
        }
      },
      "cell_type": "code",
      "source": [
        "transformed = F.grid_sample(org_tensor, grid)[0, 0]\n",
        "plt.imshow(transformed, cmap=\"gray\")"
      ],
      "execution_count": 28,
      "outputs": [
        {
          "output_type": "execute_result",
          "data": {
            "text/plain": [
              "<matplotlib.image.AxesImage at 0x7fcba00b9828>"
            ]
          },
          "metadata": {
            "tags": []
          },
          "execution_count": 28
        },
        {
          "output_type": "display_data",
          "data": {
            "image/png": "[encoded data removed]",
            "text/plain": [
              "<matplotlib.figure.Figure at 0x7fcbac56d828>"
            ]
          },
          "metadata": {
            "tags": []
          }
        }
      ]
    },
    {
      "metadata": {
        "id": "1JvCWdwpuW2s",
        "colab_type": "text"
      },
      "cell_type": "markdown",
      "source": [
        "##回転・拡大・平行移動\n",
        "\n"
      ]
    },
    {
      "metadata": {
        "id": "K5E8VuxwsTJN",
        "colab_type": "code",
        "colab": {}
      },
      "cell_type": "code",
      "source": [
        "theta = torch.FloatTensor([[[np.cos(np.pi/4), np.sin(np.pi/4), 0], [-np.sin(np.pi/4), np.cos(np.pi/4), 0]]])\n",
        "grid = F.affine_grid(theta, org_tensor.size())"
      ],
      "execution_count": 0,
      "outputs": []
    },
    {
      "metadata": {
        "id": "wz3IqSa1sct3",
        "colab_type": "code",
        "outputId": "e256b749-3c4c-4529-bbf4-c721569e0ee2",
        "colab": {
          "base_uri": "https://localhost:8080/",
          "height": 403
        }
      },
      "cell_type": "code",
      "source": [
        "fig, axs = plt.subplots(1, 2)\n",
        "axs[0].imshow(grid[0, :, :, 0], vmin=-1, vmax=1)\n",
        "im = axs[1].imshow(grid[0, :, :, 1], vmin=-1, vmax=1)\n",
        "\n",
        "fig.subplots_adjust(right=0.8)\n",
        "cbar_ax = fig.add_axes([0.85, 0.15, 0.05, 0.7])\n",
        "fig.colorbar(im, cax=cbar_ax)"
      ],
      "execution_count": 30,
      "outputs": [
        {
          "output_type": "execute_result",
          "data": {
            "text/plain": [
              "<matplotlib.colorbar.Colorbar at 0x7fcba00557b8>"
            ]
          },
          "metadata": {
            "tags": []
          },
          "execution_count": 30
        },
        {
          "output_type": "display_data",
          "data": {
            "image/png": "[encoded data removed]",
            "text/plain": [
              "<matplotlib.figure.Figure at 0x7fcba00b9cf8>"
            ]
          },
          "metadata": {
            "tags": []
          }
        }
      ]
    },
    {
      "metadata": {
        "id": "0o9mhxzqyvB8",
        "colab_type": "code",
        "outputId": "2fa5919c-c7d4-4646-c71f-9b9ec4565408",
        "colab": {
          "base_uri": "https://localhost:8080/",
          "height": 34
        }
      },
      "cell_type": "code",
      "source": [
        "grid.min(), grid.max()"
      ],
      "execution_count": 31,
      "outputs": [
        {
          "output_type": "execute_result",
          "data": {
            "text/plain": [
              "(tensor(-1.4142), tensor(1.4142))"
            ]
          },
          "metadata": {
            "tags": []
          },
          "execution_count": 31
        }
      ]
    },
    {
      "metadata": {
        "id": "uH9vEv4bvmIh",
        "colab_type": "code",
        "outputId": "a56019fc-6100-46ce-971e-9b72d7f47754",
        "colab": {
          "base_uri": "https://localhost:8080/",
          "height": 452
        }
      },
      "cell_type": "code",
      "source": [
        "transformed = F.grid_sample(org_tensor, grid)[0, 0]\n",
        "plt.imshow(transformed, cmap=\"gray\")"
      ],
      "execution_count": 32,
      "outputs": [
        {
          "output_type": "execute_result",
          "data": {
            "text/plain": [
              "<matplotlib.image.AxesImage at 0x7fcb8e9436d8>"
            ]
          },
          "metadata": {
            "tags": []
          },
          "execution_count": 32
        },
        {
          "output_type": "display_data",
          "data": {
            "image/png": "[encoded data removed]",
            "text/plain": [
              "<matplotlib.figure.Figure at 0x7fcba7b132b0>"
            ]
          },
          "metadata": {
            "tags": []
          }
        }
      ]
    },
    {
      "metadata": {
        "id": "0TK-Jtomwfao",
        "colab_type": "code",
        "colab": {}
      },
      "cell_type": "code",
      "source": [
        ""
      ],
      "execution_count": 0,
      "outputs": []
    }
  ]
}